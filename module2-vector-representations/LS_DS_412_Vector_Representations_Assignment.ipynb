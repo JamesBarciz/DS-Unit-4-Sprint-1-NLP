{
 "cells": [
  {
   "cell_type": "markdown",
   "metadata": {},
   "source": [
    "<img align=\"left\" src=\"https://lever-client-logos.s3.amazonaws.com/864372b1-534c-480e-acd5-9711f850815c-1524247202159.png\" width=200>\n",
    "<br></br>\n",
    "\n",
    "# Vector Representations\n",
    "## *Data Science Unit 4 Sprint 2 Assignment 2*"
   ]
  },
  {
   "cell_type": "code",
   "execution_count": 3,
   "metadata": {
    "colab": {
     "base_uri": "https://localhost:8080/",
     "height": 159
    },
    "colab_type": "code",
    "id": "hyj-f9FDcVFp",
    "outputId": "5dd045fe-6e4c-458c-e2fc-253c3da9c805"
   },
   "outputs": [],
   "source": [
    "import re\n",
    "import string\n",
    "\n",
    "from sklearn.feature_extraction.text import CountVectorizer, TfidfVectorizer\n",
    "import matplotlib.pyplot as plt\n",
    "import pandas as pd\n",
    "import numpy as np\n",
    "import spacy\n",
    "\n",
    "from bs4 import BeautifulSoup"
   ]
  },
  {
   "cell_type": "markdown",
   "metadata": {
    "colab_type": "text",
    "id": "M7bcmqfGXrFG"
   },
   "source": [
    "## 1) *Clean:* Job Listings from indeed.com that contain the title \"Data Scientist\" \n",
    "\n",
    "You have `job_listings.csv` in the data folder for this module. The text data in the description column is still messy - full of html tags. Use the [BeautifulSoup](https://www.crummy.com/software/BeautifulSoup/bs4/doc/) library to clean up this column. You will need to read through the documentation to accomplish this task. "
   ]
  },
  {
   "cell_type": "code",
   "execution_count": 118,
   "metadata": {
    "colab": {},
    "colab_type": "code",
    "id": "KcYlc1URXhlC"
   },
   "outputs": [
    {
     "data": {
      "text/html": [
       "<div>\n",
       "<style scoped>\n",
       "    .dataframe tbody tr th:only-of-type {\n",
       "        vertical-align: middle;\n",
       "    }\n",
       "\n",
       "    .dataframe tbody tr th {\n",
       "        vertical-align: top;\n",
       "    }\n",
       "\n",
       "    .dataframe thead th {\n",
       "        text-align: right;\n",
       "    }\n",
       "</style>\n",
       "<table border=\"1\" class=\"dataframe\">\n",
       "  <thead>\n",
       "    <tr style=\"text-align: right;\">\n",
       "      <th></th>\n",
       "      <th>Unnamed: 0</th>\n",
       "      <th>description</th>\n",
       "      <th>title</th>\n",
       "    </tr>\n",
       "  </thead>\n",
       "  <tbody>\n",
       "    <tr>\n",
       "      <th>0</th>\n",
       "      <td>0</td>\n",
       "      <td>b\"&lt;div&gt;&lt;div&gt;Job Requirements:&lt;/div&gt;&lt;ul&gt;&lt;li&gt;&lt;p&gt;...</td>\n",
       "      <td>Data scientist</td>\n",
       "    </tr>\n",
       "    <tr>\n",
       "      <th>1</th>\n",
       "      <td>1</td>\n",
       "      <td>b'&lt;div&gt;Job Description&lt;br/&gt;\\n&lt;br/&gt;\\n&lt;p&gt;As a Da...</td>\n",
       "      <td>Data Scientist I</td>\n",
       "    </tr>\n",
       "    <tr>\n",
       "      <th>2</th>\n",
       "      <td>2</td>\n",
       "      <td>b'&lt;div&gt;&lt;p&gt;As a Data Scientist you will be work...</td>\n",
       "      <td>Data Scientist - Entry Level</td>\n",
       "    </tr>\n",
       "    <tr>\n",
       "      <th>3</th>\n",
       "      <td>3</td>\n",
       "      <td>b'&lt;div class=\"jobsearch-JobMetadataHeader icl-...</td>\n",
       "      <td>Data Scientist</td>\n",
       "    </tr>\n",
       "    <tr>\n",
       "      <th>4</th>\n",
       "      <td>4</td>\n",
       "      <td>b'&lt;ul&gt;&lt;li&gt;Location: USA \\xe2\\x80\\x93 multiple ...</td>\n",
       "      <td>Data Scientist</td>\n",
       "    </tr>\n",
       "  </tbody>\n",
       "</table>\n",
       "</div>"
      ],
      "text/plain": [
       "   Unnamed: 0                                        description  \\\n",
       "0           0  b\"<div><div>Job Requirements:</div><ul><li><p>...   \n",
       "1           1  b'<div>Job Description<br/>\\n<br/>\\n<p>As a Da...   \n",
       "2           2  b'<div><p>As a Data Scientist you will be work...   \n",
       "3           3  b'<div class=\"jobsearch-JobMetadataHeader icl-...   \n",
       "4           4  b'<ul><li>Location: USA \\xe2\\x80\\x93 multiple ...   \n",
       "\n",
       "                          title  \n",
       "0               Data scientist   \n",
       "1              Data Scientist I  \n",
       "2  Data Scientist - Entry Level  \n",
       "3                Data Scientist  \n",
       "4                Data Scientist  "
      ]
     },
     "execution_count": 118,
     "metadata": {},
     "output_type": "execute_result"
    }
   ],
   "source": [
    "from bs4 import BeautifulSoup\n",
    "import requests\n",
    "\n",
    "##### Your Code Here #####\n",
    "job = pd.read_csv('data/job_listings.csv')\n",
    "# job.head()\n",
    "\n",
    "job0_html = job['description'][0]\n",
    "job.head()"
   ]
  },
  {
   "cell_type": "code",
   "execution_count": 119,
   "metadata": {},
   "outputs": [
    {
     "data": {
      "text/plain": [
       "Data Scientist                                   150\n",
       "Senior Data Scientist                             14\n",
       "Junior Data Scientist                             10\n",
       "Associate Data Scientist                           8\n",
       "Data Scientist Intern                              7\n",
       "                                                ... \n",
       "Data Scientist- Enterprise Product Analytics       1\n",
       "Data Scientist – Intern (Summer 2019)              1\n",
       "People Data Scientist                              1\n",
       "Advisor: CCO Audience Strategy - Data Science      1\n",
       "Data Science Internships                           1\n",
       "Name: title, Length: 177, dtype: int64"
      ]
     },
     "execution_count": 119,
     "metadata": {},
     "output_type": "execute_result"
    }
   ],
   "source": [
    "job['title'].value_counts()"
   ]
  },
  {
   "cell_type": "code",
   "execution_count": 120,
   "metadata": {},
   "outputs": [
    {
     "name": "stdout",
     "output_type": "stream",
     "text": [
      "b\"\n",
      "<div>\n",
      " <div>\n",
      "  Job Requirements:\n",
      " </div>\n",
      " <ul>\n",
      "  <li>\n",
      "   <p>\n",
      "    \\nConceptual understanding in Machine Learning models like Nai\\xc2\\xa8ve Bayes, K-Means, SVM, Apriori, Linear/ Logistic Regression, Neural, Random Forests, Decision Trees, K-NN along with hands-on experience in at least 2 of them\n",
      "   </p>\n",
      "   \\n\n",
      "  </li>\n",
      "  <li>\n",
      "   <p>\n",
      "    Intermediate to expert level coding skills in Python/R. (Ability to write functions, clean and efficient data manipulation are mandatory for this role)\n",
      "   </p>\n",
      "   \\n\n",
      "  </li>\n",
      "  <li>\n",
      "   <p>\n",
      "    Exposure to packages like NumPy, SciPy, Pandas, Matplotlib etc in Python or GGPlot2, dplyr, tidyR in R\n",
      "   </p>\n",
      "   \\n\n",
      "  </li>\n",
      "  <li>\n",
      "   <p>\n",
      "    Ability to communicate Model findings to both Technical and Non-Technical stake holders\n",
      "   </p>\n",
      "   \\n\n",
      "  </li>\n",
      "  <li>\n",
      "   <p>\n",
      "    Hands on experience in SQL/Hive or similar programming language\n",
      "   </p>\n",
      "   \\n\n",
      "  </li>\n",
      "  <li>\n",
      "   <p>\n",
      "    Must show past work via GitHub, Kaggle or any other published article\n",
      "   </p>\n",
      "   \\n\n",
      "  </li>\n",
      "  <li>\n",
      "   <p>\n",
      "    Master's degree in Statistics/Mathematics/Computer Science or any other quant specific field.\n",
      "   </p>\n",
      "  </li>\n",
      " </ul>\n",
      " <div>\n",
      "  <div>\n",
      "   <div>\n",
      "    <div>\n",
      "     <div>\n",
      "      <div>\n",
      "       \\nApply Now\n",
      "      </div>\n",
      "     </div>\n",
      "    </div>\n",
      "   </div>\n",
      "  </div>\n",
      " </div>\n",
      "</div>\n",
      "<div>\n",
      "</div>\n",
      "\"\n",
      "\n"
     ]
    }
   ],
   "source": [
    "soup = BeautifulSoup(job0_html, 'html.parser')\n",
    "print(soup.prettify())"
   ]
  },
  {
   "cell_type": "code",
   "execution_count": 121,
   "metadata": {},
   "outputs": [
    {
     "name": "stdout",
     "output_type": "stream",
     "text": [
      "Title None\n"
     ]
    }
   ],
   "source": [
    "# Get HTML title\n",
    "print('Title', soup.title)"
   ]
  },
  {
   "cell_type": "code",
   "execution_count": 122,
   "metadata": {},
   "outputs": [],
   "source": [
    "# Extract URLs\n",
    "# for link in soup.find_all('a'):\n",
    "#     print(link.get('href'))"
   ]
  },
  {
   "cell_type": "code",
   "execution_count": 123,
   "metadata": {},
   "outputs": [
    {
     "name": "stdout",
     "output_type": "stream",
     "text": [
      "b\"Job Requirements:\\nConceptual understanding in Machine Learning models like Nai\\xc2\\xa8ve Bayes, K-Means, SVM, Apriori, Linear/ Logistic Regression, Neural, Random Forests, Decision Trees, K-NN along with hands-on experience in at least 2 of them\\nIntermediate to expert level coding skills in Python/R. (Ability to write functions, clean and efficient data manipulation are mandatory for this role)\\nExposure to packages like NumPy, SciPy, Pandas, Matplotlib etc in Python or GGPlot2, dplyr, tidyR in R\\nAbility to communicate Model findings to both Technical and Non-Technical stake holders\\nHands on experience in SQL/Hive or similar programming language\\nMust show past work via GitHub, Kaggle or any other published article\\nMaster's degree in Statistics/Mathematics/Computer Science or any other quant specific field.\\nApply Now\"\n"
     ]
    }
   ],
   "source": [
    "# Text extraction\n",
    "print(soup.get_text())"
   ]
  },
  {
   "cell_type": "code",
   "execution_count": 124,
   "metadata": {},
   "outputs": [
    {
     "name": "stdout",
     "output_type": "stream",
     "text": [
      "b\"Job Requirements:\n",
      "Conceptual understanding in Machine Learning models like NaiÂ¨ve Bayes, K-Means, SVM, Apriori, Linear/ Logistic Regression, Neural, Random Forests, Decision Trees, K-NN along with hands-on experience in at least 2 of them\n",
      "Intermediate to expert level coding skills in Python/R. (Ability to write functions, clean and efficient data manipulation are mandatory for this role)\n",
      "Exposure to packages like NumPy, SciPy, Pandas, Matplotlib etc in Python or GGPlot2, dplyr, tidyR in R\n",
      "Ability to communicate Model findings to both Technical and Non-Technical stake holders\n",
      "Hands on experience in SQL/Hive or similar programming language\n",
      "Must show past work via GitHub, Kaggle or any other published article\n",
      "Master's degree in Statistics/Mathematics/Computer Science or any other quant specific field.\n",
      "Apply Now\"\n"
     ]
    }
   ],
   "source": [
    "print(soup.get_text().encode().decode('unicode_escape'))"
   ]
  },
  {
   "cell_type": "code",
   "execution_count": 129,
   "metadata": {},
   "outputs": [],
   "source": [
    "# Trying something\n",
    "from ast import literal_eval\n",
    "\n",
    "s = soup.get_text().replace('\\\\n', ' ')\n",
    "s = literal_eval(repr(s).replace('\\\\\\\\', '\\\\'))\n",
    "# s = re.sub(r'[^\\x00-\\x7f]', r'', s)"
   ]
  },
  {
   "cell_type": "code",
   "execution_count": 130,
   "metadata": {},
   "outputs": [
    {
     "data": {
      "text/plain": [
       "'b\"Job Requirements: Conceptual understanding in Machine Learning models like NaiÂ¨ve Bayes, K-Means, SVM, Apriori, Linear/ Logistic Regression, Neural, Random Forests, Decision Trees, K-NN along with hands-on experience in at least 2 of them Intermediate to expert level coding skills in Python/R. (Ability to write functions, clean and efficient data manipulation are mandatory for this role) Exposure to packages like NumPy, SciPy, Pandas, Matplotlib etc in Python or GGPlot2, dplyr, tidyR in R Ability to communicate Model findings to both Technical and Non-Technical stake holders Hands on experience in SQL/Hive or similar programming language Must show past work via GitHub, Kaggle or any other published article Master\\'s degree in Statistics/Mathematics/Computer Science or any other quant specific field. Apply Now\"'"
      ]
     },
     "execution_count": 130,
     "metadata": {},
     "output_type": "execute_result"
    }
   ],
   "source": [
    "s"
   ]
  },
  {
   "cell_type": "code",
   "execution_count": 147,
   "metadata": {},
   "outputs": [
    {
     "data": {
      "text/plain": [
       "\"Job Requirements: Conceptual understanding in Machine Learning models like Nai\\\\xc2\\\\xa8ve Bayes, K-Means, SVM, Apriori, Linear/ Logistic Regression, Neural, Random Forests, Decision Trees, K-NN along with hands-on experience in at least 2 of them Intermediate to expert level coding skills in Python/R. (Ability to write functions, clean and efficient data manipulation are mandatory for this role) Exposure to packages like NumPy, SciPy, Pandas, Matplotlib etc in Python or GGPlot2, dplyr, tidyR in R Ability to communicate Model findings to both Technical and Non-Technical stake holders Hands on experience in SQL/Hive or similar programming language Must show past work via GitHub, Kaggle or any other published article Master's degree in Statistics/Mathematics/Computer Science or any other quant specific field. Apply Now\""
      ]
     },
     "execution_count": 147,
     "metadata": {},
     "output_type": "execute_result"
    }
   ],
   "source": [
    "# Un-HTML-ify the listing descriptions\n",
    "listings = []\n",
    "for listing in job['description']:\n",
    "    pretty = BeautifulSoup(listing, 'html.parser')\n",
    "    s = pretty.get_text().replace('\\\\n', ' ')\n",
    "#     s = literal_eval(repr(s).replace('\\\\\\\\', '\\\\'))\n",
    "    listings.append(s[2:-1]) # Indexing to get rid of the b'' portion\n",
    "listings[0]"
   ]
  },
  {
   "cell_type": "code",
   "execution_count": 148,
   "metadata": {},
   "outputs": [
    {
     "data": {
      "text/html": [
       "<div>\n",
       "<style scoped>\n",
       "    .dataframe tbody tr th:only-of-type {\n",
       "        vertical-align: middle;\n",
       "    }\n",
       "\n",
       "    .dataframe tbody tr th {\n",
       "        vertical-align: top;\n",
       "    }\n",
       "\n",
       "    .dataframe thead th {\n",
       "        text-align: right;\n",
       "    }\n",
       "</style>\n",
       "<table border=\"1\" class=\"dataframe\">\n",
       "  <thead>\n",
       "    <tr style=\"text-align: right;\">\n",
       "      <th></th>\n",
       "      <th>Unnamed: 0</th>\n",
       "      <th>description</th>\n",
       "      <th>title</th>\n",
       "      <th>description_parsed</th>\n",
       "    </tr>\n",
       "  </thead>\n",
       "  <tbody>\n",
       "    <tr>\n",
       "      <th>0</th>\n",
       "      <td>0</td>\n",
       "      <td>b\"&lt;div&gt;&lt;div&gt;Job Requirements:&lt;/div&gt;&lt;ul&gt;&lt;li&gt;&lt;p&gt;...</td>\n",
       "      <td>Data scientist</td>\n",
       "      <td>Job Requirements: Conceptual understanding in ...</td>\n",
       "    </tr>\n",
       "    <tr>\n",
       "      <th>1</th>\n",
       "      <td>1</td>\n",
       "      <td>b'&lt;div&gt;Job Description&lt;br/&gt;\\n&lt;br/&gt;\\n&lt;p&gt;As a Da...</td>\n",
       "      <td>Data Scientist I</td>\n",
       "      <td>Job Description  As a Data Scientist 1, you wi...</td>\n",
       "    </tr>\n",
       "    <tr>\n",
       "      <th>2</th>\n",
       "      <td>2</td>\n",
       "      <td>b'&lt;div&gt;&lt;p&gt;As a Data Scientist you will be work...</td>\n",
       "      <td>Data Scientist - Entry Level</td>\n",
       "      <td>As a Data Scientist you will be working on con...</td>\n",
       "    </tr>\n",
       "    <tr>\n",
       "      <th>3</th>\n",
       "      <td>3</td>\n",
       "      <td>b'&lt;div class=\"jobsearch-JobMetadataHeader icl-...</td>\n",
       "      <td>Data Scientist</td>\n",
       "      <td>$4,969 - $6,756 a monthContractUnder the gener...</td>\n",
       "    </tr>\n",
       "    <tr>\n",
       "      <th>4</th>\n",
       "      <td>4</td>\n",
       "      <td>b'&lt;ul&gt;&lt;li&gt;Location: USA \\xe2\\x80\\x93 multiple ...</td>\n",
       "      <td>Data Scientist</td>\n",
       "      <td>Location: USA \\xe2\\x80\\x93 multiple locations ...</td>\n",
       "    </tr>\n",
       "  </tbody>\n",
       "</table>\n",
       "</div>"
      ],
      "text/plain": [
       "   Unnamed: 0                                        description  \\\n",
       "0           0  b\"<div><div>Job Requirements:</div><ul><li><p>...   \n",
       "1           1  b'<div>Job Description<br/>\\n<br/>\\n<p>As a Da...   \n",
       "2           2  b'<div><p>As a Data Scientist you will be work...   \n",
       "3           3  b'<div class=\"jobsearch-JobMetadataHeader icl-...   \n",
       "4           4  b'<ul><li>Location: USA \\xe2\\x80\\x93 multiple ...   \n",
       "\n",
       "                          title  \\\n",
       "0               Data scientist    \n",
       "1              Data Scientist I   \n",
       "2  Data Scientist - Entry Level   \n",
       "3                Data Scientist   \n",
       "4                Data Scientist   \n",
       "\n",
       "                                  description_parsed  \n",
       "0  Job Requirements: Conceptual understanding in ...  \n",
       "1  Job Description  As a Data Scientist 1, you wi...  \n",
       "2  As a Data Scientist you will be working on con...  \n",
       "3  $4,969 - $6,756 a monthContractUnder the gener...  \n",
       "4  Location: USA \\xe2\\x80\\x93 multiple locations ...  "
      ]
     },
     "execution_count": 148,
     "metadata": {},
     "output_type": "execute_result"
    }
   ],
   "source": [
    "job['description_parsed'] = listings\n",
    "job.head()"
   ]
  },
  {
   "cell_type": "markdown",
   "metadata": {
    "colab_type": "text",
    "id": "5C4xFZNtX1m2"
   },
   "source": [
    "## 2) Use Spacy to tokenize the listings "
   ]
  },
  {
   "cell_type": "code",
   "execution_count": 158,
   "metadata": {
    "colab": {},
    "colab_type": "code",
    "id": "dhUHuMr-X-II"
   },
   "outputs": [],
   "source": [
    "##### Your Code Here #####\n",
    "def tokenize(text):\n",
    "    tokens = re.sub(\"[^a-zA-Z ^0-9 \\s]\", ' ', text)\n",
    "    tokens = re.sub(r'[^\\x00-\\x7f]', r'', tokens)\n",
    "    tokens = tokens.lower()\n",
    "    \n",
    "    return tokens"
   ]
  },
  {
   "cell_type": "code",
   "execution_count": 159,
   "metadata": {},
   "outputs": [
    {
     "data": {
      "text/plain": [
       "0      job requirements  conceptual understanding in ...\n",
       "1      job description  as a data scientist 1  you wi...\n",
       "2      as a data scientist you will be working on con...\n",
       "3       4 969    6 756 a monthcontractunder the gener...\n",
       "4      location  usa  xe2 x80 x93 multiple locations ...\n",
       "                             ...                        \n",
       "421    about us  want to be part of a fantastic and f...\n",
       "422    internshipat uber  we ignite opportunity by se...\n",
       "423     200 000    350 000 a yeara million people a y...\n",
       "424    senior data scientist job description  about u...\n",
       "425    cerner intelligence is a new  innovative organ...\n",
       "Name: description_parsed, Length: 426, dtype: object"
      ]
     },
     "execution_count": 159,
     "metadata": {},
     "output_type": "execute_result"
    }
   ],
   "source": [
    "job['description_parsed'].apply(tokenize)"
   ]
  },
  {
   "cell_type": "code",
   "execution_count": 160,
   "metadata": {},
   "outputs": [],
   "source": [
    "job['description'] = job['description_parsed'].apply(tokenize)"
   ]
  },
  {
   "cell_type": "markdown",
   "metadata": {
    "colab_type": "text",
    "id": "-lgCZNL_YycP"
   },
   "source": [
    "## 3) Use Scikit-Learn's CountVectorizer to get word counts for each listing."
   ]
  },
  {
   "cell_type": "code",
   "execution_count": 161,
   "metadata": {
    "colab": {},
    "colab_type": "code",
    "id": "X2PZ8Pj_YxcF"
   },
   "outputs": [
    {
     "ename": "ValueError",
     "evalue": "Iterable over raw text documents expected, string object received.",
     "output_type": "error",
     "traceback": [
      "\u001b[1;31m---------------------------------------------------------------------------\u001b[0m",
      "\u001b[1;31mValueError\u001b[0m                                Traceback (most recent call last)",
      "\u001b[1;32m<ipython-input-161-4b72f398211c>\u001b[0m in \u001b[0;36m<module>\u001b[1;34m\u001b[0m\n\u001b[0;32m      3\u001b[0m \u001b[1;33m\u001b[0m\u001b[0m\n\u001b[0;32m      4\u001b[0m \u001b[0mtext\u001b[0m \u001b[1;33m=\u001b[0m \u001b[0mjob\u001b[0m\u001b[1;33m[\u001b[0m\u001b[1;34m'description'\u001b[0m\u001b[1;33m]\u001b[0m\u001b[1;33m[\u001b[0m\u001b[1;36m0\u001b[0m\u001b[1;33m]\u001b[0m\u001b[1;33m\u001b[0m\u001b[0m\n\u001b[1;32m----> 5\u001b[1;33m \u001b[0mvect\u001b[0m\u001b[1;33m.\u001b[0m\u001b[0mfit\u001b[0m\u001b[1;33m(\u001b[0m\u001b[0mtext\u001b[0m\u001b[1;33m)\u001b[0m\u001b[1;33m\u001b[0m\u001b[0m\n\u001b[0m\u001b[0;32m      6\u001b[0m \u001b[1;33m\u001b[0m\u001b[0m\n\u001b[0;32m      7\u001b[0m \u001b[0mdtm\u001b[0m \u001b[1;33m=\u001b[0m \u001b[0mvect\u001b[0m\u001b[1;33m.\u001b[0m\u001b[0mtransform\u001b[0m\u001b[1;33m(\u001b[0m\u001b[0mtext\u001b[0m\u001b[1;33m)\u001b[0m\u001b[1;33m\u001b[0m\u001b[0m\n",
      "\u001b[1;32m~\\Anaconda3\\envs\\u4-s1-nlp\\lib\\site-packages\\sklearn\\feature_extraction\\text.py\u001b[0m in \u001b[0;36mfit\u001b[1;34m(self, raw_documents, y)\u001b[0m\n\u001b[0;32m   1184\u001b[0m         \"\"\"\n\u001b[0;32m   1185\u001b[0m         \u001b[0mself\u001b[0m\u001b[1;33m.\u001b[0m\u001b[0m_warn_for_unused_params\u001b[0m\u001b[1;33m(\u001b[0m\u001b[1;33m)\u001b[0m\u001b[1;33m\u001b[0m\u001b[0m\n\u001b[1;32m-> 1186\u001b[1;33m         \u001b[0mself\u001b[0m\u001b[1;33m.\u001b[0m\u001b[0mfit_transform\u001b[0m\u001b[1;33m(\u001b[0m\u001b[0mraw_documents\u001b[0m\u001b[1;33m)\u001b[0m\u001b[1;33m\u001b[0m\u001b[0m\n\u001b[0m\u001b[0;32m   1187\u001b[0m         \u001b[1;32mreturn\u001b[0m \u001b[0mself\u001b[0m\u001b[1;33m\u001b[0m\u001b[0m\n\u001b[0;32m   1188\u001b[0m \u001b[1;33m\u001b[0m\u001b[0m\n",
      "\u001b[1;32m~\\Anaconda3\\envs\\u4-s1-nlp\\lib\\site-packages\\sklearn\\feature_extraction\\text.py\u001b[0m in \u001b[0;36mfit_transform\u001b[1;34m(self, raw_documents, y)\u001b[0m\n\u001b[0;32m   1208\u001b[0m         \u001b[1;32mif\u001b[0m \u001b[0misinstance\u001b[0m\u001b[1;33m(\u001b[0m\u001b[0mraw_documents\u001b[0m\u001b[1;33m,\u001b[0m \u001b[0mstr\u001b[0m\u001b[1;33m)\u001b[0m\u001b[1;33m:\u001b[0m\u001b[1;33m\u001b[0m\u001b[0m\n\u001b[0;32m   1209\u001b[0m             raise ValueError(\n\u001b[1;32m-> 1210\u001b[1;33m                 \u001b[1;34m\"Iterable over raw text documents expected, \"\u001b[0m\u001b[1;33m\u001b[0m\u001b[0m\n\u001b[0m\u001b[0;32m   1211\u001b[0m                 \"string object received.\")\n\u001b[0;32m   1212\u001b[0m \u001b[1;33m\u001b[0m\u001b[0m\n",
      "\u001b[1;31mValueError\u001b[0m: Iterable over raw text documents expected, string object received."
     ]
    }
   ],
   "source": [
    "##### Your Code Here #####\n",
    "# SEE BELOW"
   ]
  },
  {
   "cell_type": "markdown",
   "metadata": {
    "colab_type": "text",
    "id": "Zo1iH_UeY7_n"
   },
   "source": [
    "## 4) Visualize the most common word counts"
   ]
  },
  {
   "cell_type": "code",
   "execution_count": 183,
   "metadata": {
    "colab": {},
    "colab_type": "code",
    "id": "M5LB00uyZKV5"
   },
   "outputs": [],
   "source": [
    "##### Your Code Here #####\n",
    "nlp = spacy.load(\"en_core_web_lg\")\n",
    "STOP_WORDS = nlp.Defaults.stop_words.union([' ', '  ', 's', 'xe2', 'x80', 'x99s', 'data', 'science', 'scientist'])\n",
    "\n",
    "\n",
    "tokens = []\n",
    "tokenizer = spacy.tokenizer.Tokenizer(nlp.vocab)\n",
    "\"\"\" Update those tokens w/o stopwords\"\"\"\n",
    "for doc in tokenizer.pipe(job['description']):\n",
    "    \n",
    "    doc_tokens = []\n",
    "    \n",
    "    for token in doc:\n",
    "        if token.text.lower() not in STOP_WORDS:\n",
    "            doc_tokens.append(token.text.lower())\n",
    "\n",
    "    tokens.append(doc_tokens)\n",
    "\n",
    "job['tokens'] = tokens"
   ]
  },
  {
   "cell_type": "code",
   "execution_count": 197,
   "metadata": {},
   "outputs": [
    {
     "data": {
      "text/html": [
       "<div>\n",
       "<style scoped>\n",
       "    .dataframe tbody tr th:only-of-type {\n",
       "        vertical-align: middle;\n",
       "    }\n",
       "\n",
       "    .dataframe tbody tr th {\n",
       "        vertical-align: top;\n",
       "    }\n",
       "\n",
       "    .dataframe thead th {\n",
       "        text-align: right;\n",
       "    }\n",
       "</style>\n",
       "<table border=\"1\" class=\"dataframe\">\n",
       "  <thead>\n",
       "    <tr style=\"text-align: right;\">\n",
       "      <th></th>\n",
       "      <th>Unnamed: 0</th>\n",
       "      <th>description</th>\n",
       "      <th>title</th>\n",
       "      <th>description_parsed</th>\n",
       "      <th>tokens</th>\n",
       "    </tr>\n",
       "  </thead>\n",
       "  <tbody>\n",
       "    <tr>\n",
       "      <th>0</th>\n",
       "      <td>0</td>\n",
       "      <td>job requirements  conceptual understanding in ...</td>\n",
       "      <td>Data scientist</td>\n",
       "      <td>Job Requirements: Conceptual understanding in ...</td>\n",
       "      <td>[job, requirements, conceptual, understanding,...</td>\n",
       "    </tr>\n",
       "    <tr>\n",
       "      <th>1</th>\n",
       "      <td>1</td>\n",
       "      <td>job description  as a data scientist 1  you wi...</td>\n",
       "      <td>Data Scientist I</td>\n",
       "      <td>Job Description  As a Data Scientist 1, you wi...</td>\n",
       "      <td>[job, description, 1, help, build, machine, le...</td>\n",
       "    </tr>\n",
       "    <tr>\n",
       "      <th>2</th>\n",
       "      <td>2</td>\n",
       "      <td>as a data scientist you will be working on con...</td>\n",
       "      <td>Data Scientist - Entry Level</td>\n",
       "      <td>As a Data Scientist you will be working on con...</td>\n",
       "      <td>[working, consulting, business, responsible, a...</td>\n",
       "    </tr>\n",
       "    <tr>\n",
       "      <th>3</th>\n",
       "      <td>3</td>\n",
       "      <td>4 969    6 756 a monthcontractunder the gener...</td>\n",
       "      <td>Data Scientist</td>\n",
       "      <td>$4,969 - $6,756 a monthContractUnder the gener...</td>\n",
       "      <td>[4, 969,    , 6, 756, monthcontractunder, gene...</td>\n",
       "    </tr>\n",
       "    <tr>\n",
       "      <th>4</th>\n",
       "      <td>4</td>\n",
       "      <td>location  usa  xe2 x80 x93 multiple locations ...</td>\n",
       "      <td>Data Scientist</td>\n",
       "      <td>Location: USA \\xe2\\x80\\x93 multiple locations ...</td>\n",
       "      <td>[location, usa, x93, multiple, locations, 2, y...</td>\n",
       "    </tr>\n",
       "  </tbody>\n",
       "</table>\n",
       "</div>"
      ],
      "text/plain": [
       "   Unnamed: 0                                        description  \\\n",
       "0           0  job requirements  conceptual understanding in ...   \n",
       "1           1  job description  as a data scientist 1  you wi...   \n",
       "2           2  as a data scientist you will be working on con...   \n",
       "3           3   4 969    6 756 a monthcontractunder the gener...   \n",
       "4           4  location  usa  xe2 x80 x93 multiple locations ...   \n",
       "\n",
       "                          title  \\\n",
       "0               Data scientist    \n",
       "1              Data Scientist I   \n",
       "2  Data Scientist - Entry Level   \n",
       "3                Data Scientist   \n",
       "4                Data Scientist   \n",
       "\n",
       "                                  description_parsed  \\\n",
       "0  Job Requirements: Conceptual understanding in ...   \n",
       "1  Job Description  As a Data Scientist 1, you wi...   \n",
       "2  As a Data Scientist you will be working on con...   \n",
       "3  $4,969 - $6,756 a monthContractUnder the gener...   \n",
       "4  Location: USA \\xe2\\x80\\x93 multiple locations ...   \n",
       "\n",
       "                                              tokens  \n",
       "0  [job, requirements, conceptual, understanding,...  \n",
       "1  [job, description, 1, help, build, machine, le...  \n",
       "2  [working, consulting, business, responsible, a...  \n",
       "3  [4, 969,    , 6, 756, monthcontractunder, gene...  \n",
       "4  [location, usa, x93, multiple, locations, 2, y...  "
      ]
     },
     "execution_count": 197,
     "metadata": {},
     "output_type": "execute_result"
    }
   ],
   "source": [
    "job.head()"
   ]
  },
  {
   "cell_type": "code",
   "execution_count": 184,
   "metadata": {},
   "outputs": [
    {
     "data": {
      "text/plain": [
       "[('experience', 1854),\n",
       " ('business', 1212),\n",
       " ('work', 1161),\n",
       " ('team', 988),\n",
       " ('learning', 919),\n",
       " ('analytics', 736),\n",
       " ('machine', 699),\n",
       " ('skills', 697),\n",
       " ('analysis', 680),\n",
       " ('models', 617)]"
      ]
     },
     "execution_count": 184,
     "metadata": {},
     "output_type": "execute_result"
    }
   ],
   "source": [
    "import squarify\n",
    "from collections import Counter\n",
    "\n",
    "# The object `Counter` takes an iterable, but you can instaniate an empty one and update it. \n",
    "word_counts = Counter()\n",
    "\n",
    "# Update it based on a split of each of our documents\n",
    "job['tokens'].apply(lambda x: word_counts.update(x))\n",
    "\n",
    "# Print out the 10 most common words\n",
    "word_counts.most_common(10)"
   ]
  },
  {
   "cell_type": "code",
   "execution_count": 185,
   "metadata": {},
   "outputs": [],
   "source": [
    "def count(docs):\n",
    "\n",
    "    word_counts = Counter()\n",
    "    appears_in = Counter()\n",
    "\n",
    "    total_docs = len(docs)\n",
    "\n",
    "    for doc in docs:\n",
    "        word_counts.update(doc)\n",
    "        appears_in.update(set(doc))\n",
    "\n",
    "    temp = zip(word_counts.keys(), word_counts.values())\n",
    "\n",
    "    wc = pd.DataFrame(temp, columns = ['word', 'count'])\n",
    "\n",
    "    wc['rank'] = wc['count'].rank(method='first', ascending=False)\n",
    "    total = wc['count'].sum()\n",
    "\n",
    "    wc['pct_total'] = wc['count'].apply(lambda x: x / total)\n",
    "\n",
    "    wc = wc.sort_values(by='rank')\n",
    "    wc['cul_pct_total'] = wc['pct_total'].cumsum()\n",
    "\n",
    "    t2 = zip(appears_in.keys(), appears_in.values())\n",
    "    ac = pd.DataFrame(t2, columns=['word', 'appears_in'])\n",
    "    wc = ac.merge(wc, on='word')\n",
    "\n",
    "    wc['appears_in_pct'] = wc['appears_in'].apply(lambda x: x / total_docs)\n",
    "\n",
    "    return wc.sort_values(by='rank')"
   ]
  },
  {
   "cell_type": "code",
   "execution_count": 186,
   "metadata": {},
   "outputs": [],
   "source": [
    "wc = count(job['tokens'])"
   ]
  },
  {
   "cell_type": "code",
   "execution_count": 187,
   "metadata": {},
   "outputs": [
    {
     "data": {
      "text/html": [
       "<div>\n",
       "<style scoped>\n",
       "    .dataframe tbody tr th:only-of-type {\n",
       "        vertical-align: middle;\n",
       "    }\n",
       "\n",
       "    .dataframe tbody tr th {\n",
       "        vertical-align: top;\n",
       "    }\n",
       "\n",
       "    .dataframe thead th {\n",
       "        text-align: right;\n",
       "    }\n",
       "</style>\n",
       "<table border=\"1\" class=\"dataframe\">\n",
       "  <thead>\n",
       "    <tr style=\"text-align: right;\">\n",
       "      <th></th>\n",
       "      <th>word</th>\n",
       "      <th>appears_in</th>\n",
       "      <th>count</th>\n",
       "      <th>rank</th>\n",
       "      <th>pct_total</th>\n",
       "      <th>cul_pct_total</th>\n",
       "      <th>appears_in_pct</th>\n",
       "    </tr>\n",
       "  </thead>\n",
       "  <tbody>\n",
       "    <tr>\n",
       "      <th>46</th>\n",
       "      <td>experience</td>\n",
       "      <td>405</td>\n",
       "      <td>1854</td>\n",
       "      <td>1.0</td>\n",
       "      <td>0.014235</td>\n",
       "      <td>0.014235</td>\n",
       "      <td>0.950704</td>\n",
       "    </tr>\n",
       "    <tr>\n",
       "      <th>175</th>\n",
       "      <td>business</td>\n",
       "      <td>323</td>\n",
       "      <td>1212</td>\n",
       "      <td>2.0</td>\n",
       "      <td>0.009306</td>\n",
       "      <td>0.023541</td>\n",
       "      <td>0.758216</td>\n",
       "    </tr>\n",
       "    <tr>\n",
       "      <th>45</th>\n",
       "      <td>work</td>\n",
       "      <td>360</td>\n",
       "      <td>1161</td>\n",
       "      <td>3.0</td>\n",
       "      <td>0.008914</td>\n",
       "      <td>0.032456</td>\n",
       "      <td>0.845070</td>\n",
       "    </tr>\n",
       "    <tr>\n",
       "      <th>206</th>\n",
       "      <td>team</td>\n",
       "      <td>342</td>\n",
       "      <td>988</td>\n",
       "      <td>4.0</td>\n",
       "      <td>0.007586</td>\n",
       "      <td>0.040042</td>\n",
       "      <td>0.802817</td>\n",
       "    </tr>\n",
       "    <tr>\n",
       "      <th>54</th>\n",
       "      <td>learning</td>\n",
       "      <td>310</td>\n",
       "      <td>919</td>\n",
       "      <td>5.0</td>\n",
       "      <td>0.007056</td>\n",
       "      <td>0.047098</td>\n",
       "      <td>0.727700</td>\n",
       "    </tr>\n",
       "  </tbody>\n",
       "</table>\n",
       "</div>"
      ],
      "text/plain": [
       "           word  appears_in  count  rank  pct_total  cul_pct_total  \\\n",
       "46   experience         405   1854   1.0   0.014235       0.014235   \n",
       "175    business         323   1212   2.0   0.009306       0.023541   \n",
       "45         work         360   1161   3.0   0.008914       0.032456   \n",
       "206        team         342    988   4.0   0.007586       0.040042   \n",
       "54     learning         310    919   5.0   0.007056       0.047098   \n",
       "\n",
       "     appears_in_pct  \n",
       "46         0.950704  \n",
       "175        0.758216  \n",
       "45         0.845070  \n",
       "206        0.802817  \n",
       "54         0.727700  "
      ]
     },
     "execution_count": 187,
     "metadata": {},
     "output_type": "execute_result"
    }
   ],
   "source": [
    "wc.head()"
   ]
  },
  {
   "cell_type": "code",
   "execution_count": 188,
   "metadata": {},
   "outputs": [
    {
     "data": {
      "image/png": "[encoded data removed]",
      "text/plain": [
       "<Figure size 432x288 with 1 Axes>"
      ]
     },
     "metadata": {
      "needs_background": "light"
     },
     "output_type": "display_data"
    }
   ],
   "source": [
    "wc_top20 = wc[wc['rank'] <= 20]\n",
    "\n",
    "squarify.plot(sizes=wc_top20['pct_total'], label=wc_top20['word'], alpha=.8 )\n",
    "plt.axis('off')\n",
    "plt.show()"
   ]
  },
  {
   "cell_type": "code",
   "execution_count": 189,
   "metadata": {},
   "outputs": [
    {
     "name": "stdout",
     "output_type": "stream",
     "text": [
      "  (0, 28)\t1\n",
      "  (1, 59)\t1\n",
      "  (2, 9)\t1\n",
      "  (3, 72)\t1\n",
      "  (4, 36)\t1\n",
      "  (5, 31)\t1\n",
      "  (6, 44)\t1\n",
      "  (7, 33)\t1\n",
      "  (8, 45)\t1\n",
      "  (9, 76)\t1\n",
      "  (10, 75)\t1\n",
      "  (11, 4)\t1\n",
      "  (13, 42)\t1\n",
      "  (14, 68)\t1\n",
      "  (15, 2)\t1\n",
      "  (16, 34)\t1\n",
      "  (17, 35)\t1\n",
      "  (18, 58)\t1\n",
      "  (19, 46)\t1\n",
      "  (20, 57)\t1\n",
      "  (21, 20)\t1\n",
      "  (22, 10)\t1\n",
      "  (23, 71)\t1\n",
      "  (25, 47)\t1\n",
      "  (26, 24)\t1\n",
      "  :\t:\n",
      "  (63, 69)\t1\n",
      "  (64, 66)\t1\n",
      "  (65, 26)\t1\n",
      "  (66, 24)\t1\n",
      "  (67, 15)\t1\n",
      "  (68, 65)\t1\n",
      "  (69, 25)\t1\n",
      "  (70, 62)\t1\n",
      "  (71, 53)\t1\n",
      "  (72, 30)\t1\n",
      "  (73, 52)\t1\n",
      "  (74, 73)\t1\n",
      "  (75, 23)\t1\n",
      "  (76, 29)\t1\n",
      "  (77, 54)\t1\n",
      "  (78, 3)\t1\n",
      "  (79, 39)\t1\n",
      "  (80, 11)\t1\n",
      "  (81, 67)\t1\n",
      "  (82, 40)\t1\n",
      "  (83, 8)\t1\n",
      "  (84, 56)\t1\n",
      "  (85, 64)\t1\n",
      "  (86, 18)\t1\n",
      "  (87, 1)\t1\n"
     ]
    }
   ],
   "source": [
    "vect = CountVectorizer()\n",
    "\n",
    "text = job['tokens'][0]\n",
    "vect.fit(text)\n",
    "    \n",
    "dtm = vect.transform(text)\n",
    "print(dtm)"
   ]
  },
  {
   "cell_type": "markdown",
   "metadata": {
    "colab_type": "text",
    "id": "bwFsTqrVZMYi"
   },
   "source": [
    "## 5) Use Scikit-Learn's tfidfVectorizer to get a TF-IDF feature matrix"
   ]
  },
  {
   "cell_type": "code",
   "execution_count": 201,
   "metadata": {
    "colab": {},
    "colab_type": "code",
    "id": "-gx2gZCbl5Np"
   },
   "outputs": [
    {
     "name": "stdout",
     "output_type": "stream",
     "text": [
      "(426, 6119)\n"
     ]
    },
    {
     "data": {
      "text/html": [
       "<div>\n",
       "<style scoped>\n",
       "    .dataframe tbody tr th:only-of-type {\n",
       "        vertical-align: middle;\n",
       "    }\n",
       "\n",
       "    .dataframe tbody tr th {\n",
       "        vertical-align: top;\n",
       "    }\n",
       "\n",
       "    .dataframe thead th {\n",
       "        text-align: right;\n",
       "    }\n",
       "</style>\n",
       "<table border=\"1\" class=\"dataframe\">\n",
       "  <thead>\n",
       "    <tr style=\"text-align: right;\">\n",
       "      <th></th>\n",
       "      <th>000</th>\n",
       "      <th>000 employees</th>\n",
       "      <th>10</th>\n",
       "      <th>10 years</th>\n",
       "      <th>100</th>\n",
       "      <th>100 000</th>\n",
       "      <th>100 companies</th>\n",
       "      <th>100 countries</th>\n",
       "      <th>11</th>\n",
       "      <th>12</th>\n",
       "      <th>...</th>\n",
       "      <th>years industry</th>\n",
       "      <th>years professional</th>\n",
       "      <th>years related</th>\n",
       "      <th>years relevant</th>\n",
       "      <th>years work</th>\n",
       "      <th>years working</th>\n",
       "      <th>years xe2</th>\n",
       "      <th>yes</th>\n",
       "      <th>york</th>\n",
       "      <th>york city</th>\n",
       "    </tr>\n",
       "  </thead>\n",
       "  <tbody>\n",
       "    <tr>\n",
       "      <th>0</th>\n",
       "      <td>0.0</td>\n",
       "      <td>0.0</td>\n",
       "      <td>0.0</td>\n",
       "      <td>0.0</td>\n",
       "      <td>0.0</td>\n",
       "      <td>0.0</td>\n",
       "      <td>0.0</td>\n",
       "      <td>0.0</td>\n",
       "      <td>0.0</td>\n",
       "      <td>0.0</td>\n",
       "      <td>...</td>\n",
       "      <td>0.0</td>\n",
       "      <td>0.0</td>\n",
       "      <td>0.0</td>\n",
       "      <td>0.0</td>\n",
       "      <td>0.0</td>\n",
       "      <td>0.0</td>\n",
       "      <td>0.0</td>\n",
       "      <td>0.0</td>\n",
       "      <td>0.0</td>\n",
       "      <td>0.0</td>\n",
       "    </tr>\n",
       "    <tr>\n",
       "      <th>1</th>\n",
       "      <td>0.0</td>\n",
       "      <td>0.0</td>\n",
       "      <td>0.0</td>\n",
       "      <td>0.0</td>\n",
       "      <td>0.0</td>\n",
       "      <td>0.0</td>\n",
       "      <td>0.0</td>\n",
       "      <td>0.0</td>\n",
       "      <td>0.0</td>\n",
       "      <td>0.0</td>\n",
       "      <td>...</td>\n",
       "      <td>0.0</td>\n",
       "      <td>0.0</td>\n",
       "      <td>0.0</td>\n",
       "      <td>0.0</td>\n",
       "      <td>0.0</td>\n",
       "      <td>0.0</td>\n",
       "      <td>0.0</td>\n",
       "      <td>0.0</td>\n",
       "      <td>0.0</td>\n",
       "      <td>0.0</td>\n",
       "    </tr>\n",
       "    <tr>\n",
       "      <th>2</th>\n",
       "      <td>0.0</td>\n",
       "      <td>0.0</td>\n",
       "      <td>0.0</td>\n",
       "      <td>0.0</td>\n",
       "      <td>0.0</td>\n",
       "      <td>0.0</td>\n",
       "      <td>0.0</td>\n",
       "      <td>0.0</td>\n",
       "      <td>0.0</td>\n",
       "      <td>0.0</td>\n",
       "      <td>...</td>\n",
       "      <td>0.0</td>\n",
       "      <td>0.0</td>\n",
       "      <td>0.0</td>\n",
       "      <td>0.0</td>\n",
       "      <td>0.0</td>\n",
       "      <td>0.0</td>\n",
       "      <td>0.0</td>\n",
       "      <td>0.0</td>\n",
       "      <td>0.0</td>\n",
       "      <td>0.0</td>\n",
       "    </tr>\n",
       "    <tr>\n",
       "      <th>3</th>\n",
       "      <td>0.0</td>\n",
       "      <td>0.0</td>\n",
       "      <td>0.0</td>\n",
       "      <td>0.0</td>\n",
       "      <td>0.0</td>\n",
       "      <td>0.0</td>\n",
       "      <td>0.0</td>\n",
       "      <td>0.0</td>\n",
       "      <td>0.0</td>\n",
       "      <td>0.0</td>\n",
       "      <td>...</td>\n",
       "      <td>0.0</td>\n",
       "      <td>0.0</td>\n",
       "      <td>0.0</td>\n",
       "      <td>0.0</td>\n",
       "      <td>0.0</td>\n",
       "      <td>0.0</td>\n",
       "      <td>0.0</td>\n",
       "      <td>0.0</td>\n",
       "      <td>0.0</td>\n",
       "      <td>0.0</td>\n",
       "    </tr>\n",
       "    <tr>\n",
       "      <th>4</th>\n",
       "      <td>0.0</td>\n",
       "      <td>0.0</td>\n",
       "      <td>0.0</td>\n",
       "      <td>0.0</td>\n",
       "      <td>0.0</td>\n",
       "      <td>0.0</td>\n",
       "      <td>0.0</td>\n",
       "      <td>0.0</td>\n",
       "      <td>0.0</td>\n",
       "      <td>0.0</td>\n",
       "      <td>...</td>\n",
       "      <td>0.0</td>\n",
       "      <td>0.0</td>\n",
       "      <td>0.0</td>\n",
       "      <td>0.0</td>\n",
       "      <td>0.0</td>\n",
       "      <td>0.0</td>\n",
       "      <td>0.0</td>\n",
       "      <td>0.0</td>\n",
       "      <td>0.0</td>\n",
       "      <td>0.0</td>\n",
       "    </tr>\n",
       "  </tbody>\n",
       "</table>\n",
       "<p>5 rows × 6119 columns</p>\n",
       "</div>"
      ],
      "text/plain": [
       "   000  000 employees   10  10 years  100  100 000  100 companies  \\\n",
       "0  0.0            0.0  0.0       0.0  0.0      0.0            0.0   \n",
       "1  0.0            0.0  0.0       0.0  0.0      0.0            0.0   \n",
       "2  0.0            0.0  0.0       0.0  0.0      0.0            0.0   \n",
       "3  0.0            0.0  0.0       0.0  0.0      0.0            0.0   \n",
       "4  0.0            0.0  0.0       0.0  0.0      0.0            0.0   \n",
       "\n",
       "   100 countries   11   12  ...  years industry  years professional  \\\n",
       "0            0.0  0.0  0.0  ...             0.0                 0.0   \n",
       "1            0.0  0.0  0.0  ...             0.0                 0.0   \n",
       "2            0.0  0.0  0.0  ...             0.0                 0.0   \n",
       "3            0.0  0.0  0.0  ...             0.0                 0.0   \n",
       "4            0.0  0.0  0.0  ...             0.0                 0.0   \n",
       "\n",
       "   years related  years relevant  years work  years working  years xe2  yes  \\\n",
       "0            0.0             0.0         0.0            0.0        0.0  0.0   \n",
       "1            0.0             0.0         0.0            0.0        0.0  0.0   \n",
       "2            0.0             0.0         0.0            0.0        0.0  0.0   \n",
       "3            0.0             0.0         0.0            0.0        0.0  0.0   \n",
       "4            0.0             0.0         0.0            0.0        0.0  0.0   \n",
       "\n",
       "   york  york city  \n",
       "0   0.0        0.0  \n",
       "1   0.0        0.0  \n",
       "2   0.0        0.0  \n",
       "3   0.0        0.0  \n",
       "4   0.0        0.0  \n",
       "\n",
       "[5 rows x 6119 columns]"
      ]
     },
     "execution_count": 201,
     "metadata": {},
     "output_type": "execute_result"
    }
   ],
   "source": [
    "##### Your Code Here #####\n",
    "tfidf = TfidfVectorizer(stop_words='english',\n",
    "                        ngram_range=(1,2),\n",
    "                        min_df=5,\n",
    "                        max_df=0.6\n",
    "                       )\n",
    "dtm = tfidf.fit_transform(job['description'])\n",
    "\n",
    "dtm = pd.DataFrame(dtm.todense(), columns=tfidf.get_feature_names())\n",
    "\n",
    "print(dtm.shape)\n",
    "dtm.head()"
   ]
  },
  {
   "cell_type": "markdown",
   "metadata": {},
   "source": [
    "## 6) Create a NearestNeighbor Model. Write the description of your ideal datascience job and query your job listings. "
   ]
  },
  {
   "cell_type": "code",
   "execution_count": 202,
   "metadata": {
    "collapsed": false,
    "inputHidden": false,
    "jupyter": {
     "outputs_hidden": false
    },
    "outputHidden": false
   },
   "outputs": [
    {
     "data": {
      "text/plain": [
       "NearestNeighbors(algorithm='kd_tree', leaf_size=30, metric='minkowski',\n",
       "                 metric_params=None, n_jobs=None, n_neighbors=5, p=2,\n",
       "                 radius=1.0)"
      ]
     },
     "execution_count": 202,
     "metadata": {},
     "output_type": "execute_result"
    }
   ],
   "source": [
    "##### Your Code Here #####\n",
    "from sklearn.neighbors import NearestNeighbors\n",
    "\n",
    "# Fit on DTM\n",
    "nn = NearestNeighbors(n_neighbors=5, algorithm='kd_tree')\n",
    "nn.fit(dtm)"
   ]
  },
  {
   "cell_type": "code",
   "execution_count": 209,
   "metadata": {},
   "outputs": [],
   "source": [
    "ideal_job = ['''\n",
    "Python Data Manipulation Data Cleaning Data Visualization GitHub Command Line Microsoft Office.\n",
    "• Used various machine-learning models to accurately predict the genre of a song. \n",
    "• Discovered insights to why a model can only be so accurate with the subjectivity of a song genre\n",
    "''']"
   ]
  },
  {
   "cell_type": "code",
   "execution_count": 210,
   "metadata": {},
   "outputs": [],
   "source": [
    "new = tfidf.transform(ideal_job)"
   ]
  },
  {
   "cell_type": "code",
   "execution_count": 211,
   "metadata": {},
   "outputs": [
    {
     "data": {
      "text/plain": [
       "<1x6119 sparse matrix of type '<class 'numpy.float64'>'\n",
       "\twith 23 stored elements in Compressed Sparse Row format>"
      ]
     },
     "execution_count": 211,
     "metadata": {},
     "output_type": "execute_result"
    }
   ],
   "source": [
    "new"
   ]
  },
  {
   "cell_type": "code",
   "execution_count": 212,
   "metadata": {},
   "outputs": [
    {
     "data": {
      "text/plain": [
       "(array([[1.31259139, 1.32730068, 1.34537018, 1.34537018, 1.34733051]]),\n",
       " array([[  0, 282, 157, 183, 128]], dtype=int64))"
      ]
     },
     "execution_count": 212,
     "metadata": {},
     "output_type": "execute_result"
    }
   ],
   "source": [
    "nn.kneighbors(new.todense())"
   ]
  },
  {
   "cell_type": "code",
   "execution_count": 215,
   "metadata": {},
   "outputs": [
    {
     "data": {
      "text/plain": [
       "'job requirements  conceptual understanding in machine learning models like nai xc2 xa8ve bayes  k means  svm  apriori  linear  logistic regression  neural  random forests  decision trees  k nn along with hands on experience in at least 2 of them intermediate to expert level coding skills in python r   ability to write functions  clean and efficient data manipulation are mandatory for this role  exposure to packages like numpy  scipy  pandas  matplotlib etc in python or ggplot2  dplyr  tidyr in r ability to communicate model findings to both technical and non technical stake holders hands on experience in sql hive or similar programming language must show past work via github  kaggle or any other published article master s degree in statistics mathematics computer science or any other quant specific field  apply now'"
      ]
     },
     "execution_count": 215,
     "metadata": {},
     "output_type": "execute_result"
    }
   ],
   "source": [
    "job['description'][0]"
   ]
  },
  {
   "cell_type": "code",
   "execution_count": 219,
   "metadata": {},
   "outputs": [
    {
     "data": {
      "text/plain": [
       "array([[-1.62629499e-01, -4.86340218e-01],\n",
       "       [ 2.44000085e-01,  4.96532125e-02],\n",
       "       [-1.98873011e-01,  8.55510320e-02],\n",
       "       [ 1.45799162e-01, -2.30643162e-01],\n",
       "       [-5.47670017e-01, -1.12640742e-01],\n",
       "       [-4.44975045e-01,  1.99219115e-01],\n",
       "       [ 3.38176690e-01,  2.08727545e-01],\n",
       "       [-7.01033521e-02,  5.16080733e-02],\n",
       "       [-8.69605631e-02,  1.55638509e-01],\n",
       "       [ 3.66942516e-01,  1.44597571e-01],\n",
       "       [-6.10726321e-02,  1.59565485e-01],\n",
       "       [ 4.45934454e-01, -2.41357055e-01],\n",
       "       [-1.29306611e-01, -3.77460388e-01],\n",
       "       [ 3.38176690e-01,  2.08727545e-01],\n",
       "       [ 1.45827920e-02,  7.71336054e-02],\n",
       "       [ 2.01814533e-01,  1.47113830e-02],\n",
       "       [ 3.74473357e-01, -1.81357744e-01],\n",
       "       [ 2.90423721e-01,  9.57635951e-02],\n",
       "       [-7.01033521e-02,  5.16080733e-02],\n",
       "       [-1.45799657e-01, -4.92977693e-01],\n",
       "       [-1.00154633e-01, -2.51494416e-01],\n",
       "       [ 1.22752023e-01, -9.45488215e-02],\n",
       "       [ 3.17594587e-02,  2.40295438e-01],\n",
       "       [ 7.10807918e-01,  1.90965395e-01],\n",
       "       [-5.73723512e-01,  2.70590334e-01],\n",
       "       [-5.72501203e-02,  3.07464642e-01],\n",
       "       [-1.72402869e-01,  3.31745151e-01],\n",
       "       [ 2.54209934e-01,  1.89811286e-01],\n",
       "       [-1.29306611e-01, -3.77460388e-01],\n",
       "       [ 7.50022665e-05, -1.10120487e-01],\n",
       "       [ 2.48224326e-01, -8.91119800e-02],\n",
       "       [-3.13040247e-02, -3.05541620e-02],\n",
       "       [ 3.07162813e-01, -6.39291809e-02],\n",
       "       [-9.37799064e-02,  1.47569031e-01],\n",
       "       [-1.45205634e-01, -1.93521185e-01],\n",
       "       [ 1.34610487e-01, -7.65198273e-02],\n",
       "       [-1.35198636e-01,  1.91479025e-02],\n",
       "       [ 1.41283985e-01,  4.87547360e-02],\n",
       "       [-2.68163744e-01, -1.31972956e-01],\n",
       "       [ 5.60699923e-02,  1.05204547e-01],\n",
       "       [-5.62549301e-02, -1.93617297e-01],\n",
       "       [-9.99322977e-02, -4.39846469e-02],\n",
       "       [-4.19060762e-01, -5.57607490e-01],\n",
       "       [-6.10726321e-02,  1.59565485e-01],\n",
       "       [ 3.81342752e-01, -2.23784418e-01],\n",
       "       [-2.05540520e-01, -1.13773466e-01],\n",
       "       [-2.06893361e-01,  1.05950017e-01],\n",
       "       [-8.58249371e-02,  4.47671020e-01],\n",
       "       [-3.39688980e-02,  1.63907523e-02],\n",
       "       [-1.37078315e-01,  9.39752919e-02],\n",
       "       [-1.75131509e-02,  5.57121024e-02],\n",
       "       [-9.07353322e-02,  8.18014071e-02],\n",
       "       [-9.81462162e-02,  7.18082488e-02],\n",
       "       [ 1.41370719e-01, -4.09328330e-02],\n",
       "       [ 1.64639533e-01, -9.53799959e-02],\n",
       "       [-2.19517433e-01, -5.97706242e-02],\n",
       "       [-2.18702308e-01, -3.85645602e-01],\n",
       "       [-3.21719061e-02,  3.04246141e-02],\n",
       "       [-1.36347683e-01,  4.97641376e-02],\n",
       "       [ 1.30842888e-01, -7.36898604e-02],\n",
       "       [-3.20354008e-01,  2.57088287e-02],\n",
       "       [-1.31792787e-01,  8.10227111e-02],\n",
       "       [-2.55047488e-01, -1.23265562e-01],\n",
       "       [ 1.13109913e-01,  4.08144061e-02],\n",
       "       [-1.73731903e-02, -7.80242253e-02],\n",
       "       [-6.54638575e-02, -1.56031065e-01],\n",
       "       [ 2.54209934e-01,  1.89811286e-01],\n",
       "       [ 4.95315375e-01,  6.37586367e-02],\n",
       "       [ 3.35812289e-01, -7.87338371e-03],\n",
       "       [ 7.28593710e-02, -2.52886808e-01],\n",
       "       [ 6.76532165e-02, -2.50271289e-01],\n",
       "       [-8.90362813e-02,  1.93066335e-01],\n",
       "       [-3.98970849e-01,  1.86963856e-01],\n",
       "       [ 2.64890231e-01, -4.72543845e-01],\n",
       "       [ 2.00654768e-02, -1.31320255e-01],\n",
       "       [-7.17206986e-02, -3.38280169e-02],\n",
       "       [ 3.02080784e-01,  2.14518764e-01],\n",
       "       [ 4.61223986e-01, -2.10019087e-01],\n",
       "       [ 5.83579109e-02, -1.60188324e-02],\n",
       "       [-1.90867257e-01, -3.60762456e-01],\n",
       "       [-4.61371327e-01, -8.34483684e-02],\n",
       "       [-4.68724726e-02,  1.89236221e-02],\n",
       "       [ 2.50949791e-01, -3.11380465e-02],\n",
       "       [ 1.91414738e-01,  8.07645278e-02],\n",
       "       [ 5.94443674e-01, -2.29225272e-02],\n",
       "       [-5.62549301e-02, -1.93617297e-01],\n",
       "       [-2.65730862e-01,  6.93512011e-02],\n",
       "       [ 1.29684619e-01,  8.71543452e-02],\n",
       "       [ 2.90678539e-01,  8.29131684e-02],\n",
       "       [ 2.78532530e-01, -1.04732956e-01],\n",
       "       [-1.75131509e-02,  5.57121024e-02],\n",
       "       [-1.32391313e-01, -2.27761306e-01],\n",
       "       [ 1.98335566e-01,  4.71390410e-02],\n",
       "       [-5.14481815e-01, -1.15489198e-02],\n",
       "       [-1.48583087e-01, -3.64475303e-01],\n",
       "       [ 3.66942516e-01,  1.44597571e-01],\n",
       "       [ 4.95001618e-01,  1.76536909e-01],\n",
       "       [ 2.69977247e-01, -1.20079970e-02],\n",
       "       [-1.73731903e-02, -7.80242253e-02],\n",
       "       [-3.38894789e-01, -1.77908030e-01],\n",
       "       [-8.58249371e-02,  4.47671020e-01],\n",
       "       [-5.27951642e-01,  3.38696786e-02],\n",
       "       [ 3.16539908e-01, -4.35509239e-02],\n",
       "       [-9.57107668e-02,  2.34776500e-01],\n",
       "       [-1.67134755e-01,  1.64064141e-01],\n",
       "       [-3.46849341e-01, -1.49626881e-01],\n",
       "       [-1.49592173e-01,  4.81612753e-01],\n",
       "       [ 2.10568438e-01,  7.26905871e-02],\n",
       "       [ 2.14613060e-01, -7.85962483e-02],\n",
       "       [ 1.99861751e-01, -3.17436793e-02],\n",
       "       [ 2.18220551e-01,  1.06614318e-01],\n",
       "       [ 5.24859210e-01,  1.80188896e-01],\n",
       "       [ 2.69977247e-01, -1.20079970e-02],\n",
       "       [-8.69514678e-02,  3.09061004e-02],\n",
       "       [ 2.55791327e-01, -7.25034035e-01],\n",
       "       [ 9.93374127e-02, -1.49856795e-01],\n",
       "       [ 1.08304804e-01, -1.79576118e-01],\n",
       "       [-1.53060939e-01,  6.22985450e-02],\n",
       "       [-2.50266453e-01,  1.26507287e-01],\n",
       "       [-4.81555590e-01,  1.50314660e-01],\n",
       "       [-9.52752525e-03, -1.14009107e-01],\n",
       "       [-1.72447296e-02,  1.23944385e-01],\n",
       "       [-2.19517433e-01, -5.97706242e-02],\n",
       "       [ 7.10807918e-01,  1.90965395e-01],\n",
       "       [-3.52282410e-02, -7.38661826e-01],\n",
       "       [-3.39688980e-02,  1.63907523e-02],\n",
       "       [-1.02596787e-01, -1.95912474e-01],\n",
       "       [ 5.48956731e-02, -1.87023354e-01],\n",
       "       [ 2.26879131e-01,  9.91754655e-02],\n",
       "       [ 1.08300922e-01,  1.15427827e-01],\n",
       "       [ 2.06904177e-01,  1.85933617e-01],\n",
       "       [ 2.77954903e-01,  1.40526014e-01],\n",
       "       [ 2.18220551e-01,  1.06614318e-01],\n",
       "       [-4.60986509e-03, -2.48635103e-01],\n",
       "       [ 1.49780226e-01, -8.98569792e-02],\n",
       "       [ 2.75287896e-01,  1.22415498e-01],\n",
       "       [ 3.43941953e-01,  4.56101415e-02],\n",
       "       [-9.99822713e-02,  1.29802633e-01],\n",
       "       [-4.19060762e-01, -5.57607490e-01],\n",
       "       [-2.92312723e-01, -9.44502388e-02],\n",
       "       [ 5.72096682e-01,  7.85805234e-02],\n",
       "       [ 2.67897445e-01, -1.35011855e-02],\n",
       "       [-9.81462162e-02,  7.18082488e-02],\n",
       "       [ 8.33853970e-02, -1.00378143e-01],\n",
       "       [-6.93583643e-02,  1.61306180e-01],\n",
       "       [-3.25484460e-01, -1.48334621e-01],\n",
       "       [ 9.25554642e-02, -1.77373017e-02],\n",
       "       [-1.99169447e-01, -9.18251701e-02],\n",
       "       [ 4.59879748e-02, -3.83475715e-01],\n",
       "       [ 2.48941641e-02,  9.68807702e-03],\n",
       "       [-3.37137611e-01,  4.19747477e-02],\n",
       "       [-3.03689694e-01,  3.18517312e-01],\n",
       "       [ 2.18867130e-01,  1.21546190e-01],\n",
       "       [-2.72600448e-01, -4.90669413e-02],\n",
       "       [-5.53077648e-01, -2.87946600e-02],\n",
       "       [ 5.04353214e-02,  2.31209525e-01],\n",
       "       [-9.99322977e-02, -4.39846469e-02],\n",
       "       [ 8.02145367e-02,  1.04483993e-01],\n",
       "       [ 2.40812699e-01,  3.33175719e-02],\n",
       "       [-8.64862045e-02,  9.06976529e-01],\n",
       "       [-4.03607385e-02, -4.61912858e-02],\n",
       "       [-1.16245670e-01,  8.69110075e-02],\n",
       "       [-7.62173419e-02, -3.08780483e-01],\n",
       "       [-4.28758288e-01,  7.92219631e-02],\n",
       "       [-1.57945509e-02, -2.05611463e-01],\n",
       "       [ 2.01048045e-01, -8.65618063e-02],\n",
       "       [ 2.10415076e-01,  6.26636407e-02],\n",
       "       [-4.68724726e-02,  1.89236221e-02],\n",
       "       [-5.55492062e-02, -2.94753259e-02],\n",
       "       [ 1.95269442e-01, -1.60146345e-01],\n",
       "       [ 2.85811870e-01,  1.20262664e-01],\n",
       "       [ 2.01814533e-01,  1.47113830e-02],\n",
       "       [ 3.02080784e-01,  2.14518764e-01],\n",
       "       [ 6.23750676e-03,  1.09147526e-01],\n",
       "       [-1.02596787e-01, -1.95912474e-01],\n",
       "       [ 2.69977247e-01, -1.20079970e-02],\n",
       "       [-8.65756934e-02,  7.45973716e-03],\n",
       "       [-4.81555590e-01,  1.50314660e-01],\n",
       "       [-1.90351320e-01,  1.41005262e-01],\n",
       "       [ 4.35230064e-01,  2.34425526e-01],\n",
       "       [-1.37571391e-01,  5.08928822e-02],\n",
       "       [ 4.45934454e-01, -2.41357055e-01],\n",
       "       [ 4.85686541e-01, -1.81181865e-01],\n",
       "       [ 8.02145367e-02,  1.04483993e-01],\n",
       "       [-1.99169447e-01, -9.18251701e-02],\n",
       "       [-7.23511798e-02,  1.67171403e-01],\n",
       "       [-1.23508448e-01, -1.76702768e-01],\n",
       "       [-1.67134755e-01,  1.64064141e-01],\n",
       "       [-1.51888303e-01,  1.68327488e-01],\n",
       "       [-2.82885050e-01, -5.64895401e-03],\n",
       "       [-1.48355901e-01,  1.20274705e-01],\n",
       "       [ 1.42036503e-01,  2.68773190e-01],\n",
       "       [ 2.78641468e-01,  1.31307664e-01],\n",
       "       [ 1.32932356e-01,  4.43136538e-02],\n",
       "       [-1.52294600e-01, -7.06938957e-02],\n",
       "       [ 1.31639218e-01, -5.89719664e-02],\n",
       "       [ 2.27661860e-01, -3.14034358e-01],\n",
       "       [ 1.83757826e-01, -4.60363579e-02],\n",
       "       [-3.75501773e-01, -1.17636944e-01],\n",
       "       [-1.78555237e-01, -1.72457000e-01],\n",
       "       [ 3.24997256e-01, -1.06993716e-02],\n",
       "       [-2.76118327e-01,  9.73921162e-02],\n",
       "       [-4.61371327e-01, -8.34483684e-02],\n",
       "       [-4.01070163e-01,  3.21130501e-01],\n",
       "       [ 5.73220504e-03, -2.38129001e-01],\n",
       "       [-3.75501773e-01, -1.17636944e-01],\n",
       "       [ 2.02871883e-01,  2.24081386e-02],\n",
       "       [-1.43396709e-02, -1.16077282e-01],\n",
       "       [-2.51959771e-01,  2.02528025e-01],\n",
       "       [-1.90705627e-02,  8.49776460e-02],\n",
       "       [ 1.41283985e-01,  4.87547360e-02],\n",
       "       [-1.89553219e-01, -9.60141467e-02],\n",
       "       [-1.64015953e-01,  4.27366214e-02],\n",
       "       [-2.16294802e-01,  1.69490166e-01],\n",
       "       [ 4.61223986e-01, -2.10019087e-01],\n",
       "       [-2.76383178e-01, -1.25400158e-01],\n",
       "       [-2.23104432e-01, -2.44170995e-02],\n",
       "       [-3.37192725e-01,  1.72935630e-01],\n",
       "       [ 7.76761696e-02,  1.12092401e-01],\n",
       "       [-1.25134265e-01, -6.08447372e-02],\n",
       "       [-4.72946269e-01,  1.97587683e-01],\n",
       "       [-6.78831909e-02, -5.27095553e-02],\n",
       "       [-5.83555955e-02,  3.41873572e-02],\n",
       "       [ 2.15698435e-01, -1.05336718e-01],\n",
       "       [-3.47470656e-01,  5.38582503e-02],\n",
       "       [ 3.24884685e-01, -1.63306861e-01],\n",
       "       [-4.23467976e-01, -7.28344784e-02],\n",
       "       [-1.83092411e-01,  1.90628795e-01],\n",
       "       [ 4.76988342e-02, -2.21242821e-01],\n",
       "       [ 3.62825297e-01, -4.48090835e-02],\n",
       "       [-2.86466874e-01, -3.37986681e-02],\n",
       "       [-1.26206040e-01, -1.17045887e-01],\n",
       "       [-2.44705663e-01, -7.76726473e-02],\n",
       "       [-5.28204349e-01,  1.35110642e-01],\n",
       "       [-3.44613927e-01, -7.42936652e-02],\n",
       "       [ 4.31452000e-01,  3.85191316e-01],\n",
       "       [-1.51888303e-01,  1.68327488e-01],\n",
       "       [ 3.19862867e-02, -8.52538481e-02],\n",
       "       [ 2.35150422e-02, -1.99118509e-01],\n",
       "       [ 1.10474198e-01, -3.73049797e-02],\n",
       "       [ 7.37739519e-02,  4.07080529e-02],\n",
       "       [-1.17393105e-01, -7.09154918e-02],\n",
       "       [ 1.13109913e-01,  4.08144061e-02],\n",
       "       [ 3.16539908e-01, -4.35509239e-02],\n",
       "       [ 2.72417007e-01, -2.97400419e-01],\n",
       "       [ 1.42863422e-01,  3.31599756e-01],\n",
       "       [ 1.12734564e-03, -1.12126319e-01],\n",
       "       [ 4.27222367e-01,  1.19096696e-01],\n",
       "       [ 2.57815207e-03, -1.39712389e-01],\n",
       "       [-1.84198149e-01,  2.80084927e-03],\n",
       "       [-3.13567988e-01,  9.67887216e-02],\n",
       "       [ 6.57226458e-02, -1.39076814e-01],\n",
       "       [ 2.78641468e-01,  1.31307664e-01],\n",
       "       [ 8.54665212e-02,  1.11348947e-01],\n",
       "       [ 1.81667045e-02, -2.11400592e-01],\n",
       "       [-3.46599631e-01, -6.39576521e-02],\n",
       "       [-1.08156229e-01,  7.78930901e-02],\n",
       "       [ 1.49684025e-01,  1.06270449e-01],\n",
       "       [ 2.90804438e-02,  2.40376160e-02],\n",
       "       [ 2.10568438e-01,  7.26905871e-02],\n",
       "       [-2.05540520e-01, -1.13773466e-01],\n",
       "       [-2.00749359e-01,  2.24018640e-01],\n",
       "       [-1.91609170e-01,  1.71326445e-01],\n",
       "       [-1.06898215e-01,  7.24316342e-02],\n",
       "       [-1.28900932e-02, -4.01230624e-02],\n",
       "       [-1.01301879e-01, -2.58793492e-02],\n",
       "       [ 2.14613060e-01, -7.85962483e-02],\n",
       "       [ 9.76083276e-02,  2.72733724e-01],\n",
       "       [ 9.83113556e-02, -2.66011224e-03],\n",
       "       [-5.29433465e-02, -7.72307999e-02],\n",
       "       [ 1.27822795e-01,  6.86060542e-02],\n",
       "       [-2.95306158e-02,  1.55420694e-01],\n",
       "       [ 1.76212450e-01, -4.50498003e-02],\n",
       "       [-1.15179719e-01, -1.86839497e-01],\n",
       "       [-5.66912486e-01,  2.06082773e-01],\n",
       "       [ 7.37739519e-02,  4.07080529e-02],\n",
       "       [-1.15697115e-01, -8.41022874e-02],\n",
       "       [-1.88709842e-01,  1.11990046e-02],\n",
       "       [-2.41149619e-01,  3.34705195e-02],\n",
       "       [ 1.76212450e-01, -4.50498003e-02],\n",
       "       [-1.45176633e-01, -1.63011661e-02],\n",
       "       [ 1.63330409e-01,  8.10559683e-02],\n",
       "       [ 1.15014430e-01, -8.16960667e-02],\n",
       "       [ 1.91563459e-02, -6.58486524e-02],\n",
       "       [ 9.03480509e-02, -5.21794332e-02],\n",
       "       [-1.49122796e-02,  1.17915278e-01],\n",
       "       [ 1.16681279e-03, -3.53834744e-01],\n",
       "       [ 3.45068840e-01,  3.37972783e-02],\n",
       "       [-3.54389801e-01, -2.72318065e-01],\n",
       "       [-6.07291289e-02,  8.61523209e-02],\n",
       "       [ 1.68222251e-01, -1.31879498e-01],\n",
       "       [-1.71097880e-01,  1.40465530e-03],\n",
       "       [ 1.09971621e-01, -1.00934476e-01],\n",
       "       [-4.67907824e-02,  1.11520945e-01],\n",
       "       [-1.94541035e-01, -9.86278830e-02],\n",
       "       [ 1.28260367e-01,  5.17904937e-02],\n",
       "       [-1.54003593e-02, -2.02364069e-01],\n",
       "       [-6.21999886e-02,  1.36649147e-01],\n",
       "       [-2.29637290e-01,  1.99637652e-01],\n",
       "       [ 6.17258558e-02,  8.66229715e-02],\n",
       "       [-1.07975883e-01,  9.40622281e-02],\n",
       "       [ 4.26651247e-02,  1.61314035e-01],\n",
       "       [-1.64191749e-01, -1.67754203e-01],\n",
       "       [-1.36347683e-01,  4.97641376e-02],\n",
       "       [-2.05540520e-01, -1.13773466e-01],\n",
       "       [ 2.61021313e-01,  8.06260499e-02],\n",
       "       [ 1.11116442e-01,  5.09043238e-02],\n",
       "       [-3.39353730e-01,  1.22007612e-01],\n",
       "       [ 5.70827026e-03, -1.19645603e-01],\n",
       "       [ 1.25627166e-01, -2.28078342e-02],\n",
       "       [-5.19480362e-02, -5.49882729e-02],\n",
       "       [ 1.11237760e-01, -2.54771631e-01],\n",
       "       [ 5.83579109e-02, -1.60188324e-02],\n",
       "       [-1.33785690e-01, -1.76568535e-01],\n",
       "       [ 6.41172051e-01,  1.12240739e-01],\n",
       "       [-1.43396709e-02, -1.16077282e-01],\n",
       "       [ 1.87925960e-01,  2.38760858e-02],\n",
       "       [ 2.00654768e-02, -1.31320255e-01],\n",
       "       [-2.52643271e-01,  1.93558590e-01],\n",
       "       [ 1.32830862e-01, -1.77753489e-01],\n",
       "       [ 2.91280351e-01, -4.13322846e-02],\n",
       "       [-2.15673082e-01,  3.99532898e-02],\n",
       "       [ 1.04363211e-01,  4.55737559e-02],\n",
       "       [ 2.67897445e-01, -1.35011855e-02],\n",
       "       [ 2.13223872e-01,  1.64740974e-01],\n",
       "       [ 9.87772681e-02,  1.50814850e-01],\n",
       "       [-4.42456941e-01,  1.31811189e-01],\n",
       "       [-3.21931453e-01,  7.26033593e-02],\n",
       "       [-1.97270281e-01,  1.77149197e-01],\n",
       "       [-3.11800582e-01, -1.45912594e-01],\n",
       "       [ 1.39194796e-01, -1.23375564e-01],\n",
       "       [-3.43437327e-02,  1.41732976e-01],\n",
       "       [ 2.76510186e-02, -4.28076591e-02],\n",
       "       [-3.10899229e-01,  1.41502743e-01],\n",
       "       [ 7.37739519e-02,  4.07080529e-02],\n",
       "       [ 2.10415076e-01,  6.26636407e-02],\n",
       "       [-4.01636151e-01,  9.35939923e-02],\n",
       "       [ 4.80425083e-01,  6.83498481e-02],\n",
       "       [-1.01482614e-01,  8.14081073e-02],\n",
       "       [-3.10899229e-01,  1.41502743e-01],\n",
       "       [-3.94624827e-01,  3.90442762e-02],\n",
       "       [-1.77877167e-01, -5.79918221e-02],\n",
       "       [ 3.20436748e-02,  1.55325062e-01],\n",
       "       [ 2.48941641e-02,  9.68807702e-03],\n",
       "       [ 1.83757826e-01, -4.60363579e-02],\n",
       "       [-4.72427385e-03, -1.42439701e-01],\n",
       "       [-1.15429873e-01, -9.73064960e-03],\n",
       "       [-4.92434678e-02, -1.61586120e-01],\n",
       "       [-5.29433465e-02, -7.72307999e-02],\n",
       "       [ 1.75420625e-02, -1.32408687e-02],\n",
       "       [-2.22588450e-01, -1.70339239e-01],\n",
       "       [ 5.30129094e-02, -2.04559593e-02],\n",
       "       [ 2.02871883e-01,  2.24081386e-02],\n",
       "       [-1.24772125e-01,  1.52423038e-01],\n",
       "       [-8.83164653e-02, -7.98546703e-02],\n",
       "       [ 1.49780226e-01, -8.98569792e-02],\n",
       "       [ 3.09855328e-01,  2.25475226e-01],\n",
       "       [-5.68240634e-01,  3.94588019e-01],\n",
       "       [ 1.71077826e-01,  3.68035343e-02],\n",
       "       [ 2.31012598e-01,  1.54545681e-02],\n",
       "       [ 3.98284479e-01,  9.55617355e-02],\n",
       "       [ 3.22921358e-02,  6.46938784e-02],\n",
       "       [ 5.82942473e-01,  2.80167495e-01],\n",
       "       [ 1.68694197e-01,  3.31008948e-02],\n",
       "       [ 1.55493970e-01,  2.40482938e-01],\n",
       "       [ 1.98335566e-01,  4.71390410e-02],\n",
       "       [-3.32694423e-01, -3.12888633e-01],\n",
       "       [ 1.75571630e-01, -1.36599091e-01],\n",
       "       [-2.97602580e-01,  2.48462748e-01],\n",
       "       [ 1.61341911e-01,  2.99197683e-02],\n",
       "       [ 1.64435675e-01,  1.04547241e-02],\n",
       "       [ 1.84285339e-01,  8.47766493e-02],\n",
       "       [-1.51012352e-01,  2.01746537e-02],\n",
       "       [-2.50266453e-01,  1.26507287e-01],\n",
       "       [ 1.59290804e-01, -1.10002709e-01],\n",
       "       [-1.54003593e-02, -2.02364069e-01],\n",
       "       [ 2.02376714e-01, -3.76806947e-02],\n",
       "       [ 2.91280351e-01, -4.13322846e-02],\n",
       "       [-9.37799064e-02,  1.47569031e-01],\n",
       "       [ 3.45741225e-01,  5.15124465e-02],\n",
       "       [ 5.58754542e-02,  6.16918655e-02],\n",
       "       [ 1.59290804e-01, -1.10002709e-01],\n",
       "       [-1.00371816e-01, -1.16548809e-01],\n",
       "       [-2.23399262e-01, -4.36277472e-02],\n",
       "       [-4.93092416e-01, -3.14154749e-01],\n",
       "       [-4.10389961e-02, -1.50920014e-01],\n",
       "       [ 3.62395431e-02,  8.66771090e-02],\n",
       "       [ 1.71107747e-01,  1.58780521e-01],\n",
       "       [ 1.49243757e-02,  2.76450688e-01],\n",
       "       [-5.28204349e-01,  1.35110642e-01],\n",
       "       [-4.18203729e-01,  3.61460354e-02],\n",
       "       [-5.47415295e-02,  6.00293914e-02],\n",
       "       [ 2.30164501e-01,  1.57429555e-01],\n",
       "       [-2.35301699e-01, -4.76899230e-02],\n",
       "       [ 3.16539908e-01, -4.35509239e-02],\n",
       "       [ 5.04353214e-02,  2.31209525e-01],\n",
       "       [ 3.55290339e-01, -2.76290806e-01],\n",
       "       [ 5.78662551e-02, -4.12274790e-02],\n",
       "       [ 2.90678539e-01,  8.29131684e-02],\n",
       "       [-7.03504569e-02, -9.19066411e-02],\n",
       "       [-1.88709842e-01,  1.11990046e-02],\n",
       "       [ 3.07925149e-01,  5.20205192e-02],\n",
       "       [ 7.28593710e-02, -2.52886808e-01],\n",
       "       [-3.43563619e-02,  5.71044449e-02],\n",
       "       [-1.06722704e-01,  8.86686024e-02],\n",
       "       [ 1.59578958e-01,  7.06390135e-02],\n",
       "       [-1.57647038e-01,  1.08305853e-01],\n",
       "       [-3.97511247e-01,  4.89620720e-01],\n",
       "       [-1.44296281e-01, -2.63990710e-01],\n",
       "       [ 8.64346682e-02, -5.37844150e-02],\n",
       "       [-9.97685835e-02, -1.45060935e-03],\n",
       "       [ 1.06394750e-01, -9.87163688e-02],\n",
       "       [ 1.33677990e-01, -1.23543019e-01],\n",
       "       [-2.72600448e-01, -4.90669413e-02],\n",
       "       [-1.05881807e-01,  3.96660702e-02],\n",
       "       [-2.34716311e-01,  2.61912349e-01],\n",
       "       [ 1.95962218e-01,  7.79608983e-02],\n",
       "       [ 4.16548567e-01,  1.44691390e-01],\n",
       "       [-3.24797508e-01,  9.86048173e-03],\n",
       "       [-1.83885145e-01,  9.26920577e-02],\n",
       "       [ 2.15698435e-01, -1.05336718e-01],\n",
       "       [ 2.28304816e-01, -1.76747517e-01],\n",
       "       [ 1.54926626e-01, -9.64176097e-02],\n",
       "       [ 3.81342752e-01, -2.23784418e-01],\n",
       "       [-1.00051538e-01, -1.16434975e-01],\n",
       "       [-8.97528884e-02, -1.23151709e-01]])"
      ]
     },
     "execution_count": 219,
     "metadata": {},
     "output_type": "execute_result"
    }
   ],
   "source": [
    "# import the PCA module from sklearn\n",
    "from sklearn.decomposition import PCA\n",
    "\n",
    "def get_word_vectors(words):\n",
    "    # converts a list of words into their word vectors\n",
    "    return [nlp(word).vector for word in words]\n",
    "\n",
    "# intialise pca model and tell it to project data down onto 2 dimensions\n",
    "pca = PCA(n_components=2)\n",
    "\n",
    "# fit the pca model to our 300D data, this will work out which is the best \n",
    "# way to project the data down that will best maintain the relative distances \n",
    "# between data points. It will store these intructioons on how to transform the data.\n",
    "pca.fit(get_word_vectors(job['description']))\n",
    "\n",
    "# Tell our (fitted) pca model to transform our 300D data down onto 2D using the \n",
    "# instructions it learnt during the fit phase.\n",
    "word_vecs_2d = pca.transform(get_word_vectors(job['description']))\n",
    "\n",
    "# let's look at our new 2D word vectors\n",
    "word_vecs_2d"
   ]
  },
  {
   "cell_type": "code",
   "execution_count": 223,
   "metadata": {},
   "outputs": [
    {
     "ename": "RuntimeError",
     "evalue": "In draw_glyphs_to_bitmap: Could not convert glyph to bitmap (error code 0x62)",
     "output_type": "error",
     "traceback": [
      "\u001b[1;31m---------------------------------------------------------------------------\u001b[0m",
      "\u001b[1;31mRuntimeError\u001b[0m                              Traceback (most recent call last)",
      "\u001b[1;32m~\\Anaconda3\\envs\\u4-s1-nlp\\lib\\site-packages\\IPython\\core\\formatters.py\u001b[0m in \u001b[0;36m__call__\u001b[1;34m(self, obj)\u001b[0m\n\u001b[0;32m    339\u001b[0m                 \u001b[1;32mpass\u001b[0m\u001b[1;33m\u001b[0m\u001b[0m\n\u001b[0;32m    340\u001b[0m             \u001b[1;32melse\u001b[0m\u001b[1;33m:\u001b[0m\u001b[1;33m\u001b[0m\u001b[0m\n\u001b[1;32m--> 341\u001b[1;33m                 \u001b[1;32mreturn\u001b[0m \u001b[0mprinter\u001b[0m\u001b[1;33m(\u001b[0m\u001b[0mobj\u001b[0m\u001b[1;33m)\u001b[0m\u001b[1;33m\u001b[0m\u001b[0m\n\u001b[0m\u001b[0;32m    342\u001b[0m             \u001b[1;31m# Finally look for special method names\u001b[0m\u001b[1;33m\u001b[0m\u001b[1;33m\u001b[0m\u001b[0m\n\u001b[0;32m    343\u001b[0m             \u001b[0mmethod\u001b[0m \u001b[1;33m=\u001b[0m \u001b[0mget_real_method\u001b[0m\u001b[1;33m(\u001b[0m\u001b[0mobj\u001b[0m\u001b[1;33m,\u001b[0m \u001b[0mself\u001b[0m\u001b[1;33m.\u001b[0m\u001b[0mprint_method\u001b[0m\u001b[1;33m)\u001b[0m\u001b[1;33m\u001b[0m\u001b[0m\n",
      "\u001b[1;32m~\\Anaconda3\\envs\\u4-s1-nlp\\lib\\site-packages\\IPython\\core\\pylabtools.py\u001b[0m in \u001b[0;36m<lambda>\u001b[1;34m(fig)\u001b[0m\n\u001b[0;32m    246\u001b[0m \u001b[1;33m\u001b[0m\u001b[0m\n\u001b[0;32m    247\u001b[0m     \u001b[1;32mif\u001b[0m \u001b[1;34m'png'\u001b[0m \u001b[1;32min\u001b[0m \u001b[0mformats\u001b[0m\u001b[1;33m:\u001b[0m\u001b[1;33m\u001b[0m\u001b[0m\n\u001b[1;32m--> 248\u001b[1;33m         \u001b[0mpng_formatter\u001b[0m\u001b[1;33m.\u001b[0m\u001b[0mfor_type\u001b[0m\u001b[1;33m(\u001b[0m\u001b[0mFigure\u001b[0m\u001b[1;33m,\u001b[0m \u001b[1;32mlambda\u001b[0m \u001b[0mfig\u001b[0m\u001b[1;33m:\u001b[0m \u001b[0mprint_figure\u001b[0m\u001b[1;33m(\u001b[0m\u001b[0mfig\u001b[0m\u001b[1;33m,\u001b[0m \u001b[1;34m'png'\u001b[0m\u001b[1;33m,\u001b[0m \u001b[1;33m**\u001b[0m\u001b[0mkwargs\u001b[0m\u001b[1;33m)\u001b[0m\u001b[1;33m)\u001b[0m\u001b[1;33m\u001b[0m\u001b[0m\n\u001b[0m\u001b[0;32m    249\u001b[0m     \u001b[1;32mif\u001b[0m \u001b[1;34m'retina'\u001b[0m \u001b[1;32min\u001b[0m \u001b[0mformats\u001b[0m \u001b[1;32mor\u001b[0m \u001b[1;34m'png2x'\u001b[0m \u001b[1;32min\u001b[0m \u001b[0mformats\u001b[0m\u001b[1;33m:\u001b[0m\u001b[1;33m\u001b[0m\u001b[0m\n\u001b[0;32m    250\u001b[0m         \u001b[0mpng_formatter\u001b[0m\u001b[1;33m.\u001b[0m\u001b[0mfor_type\u001b[0m\u001b[1;33m(\u001b[0m\u001b[0mFigure\u001b[0m\u001b[1;33m,\u001b[0m \u001b[1;32mlambda\u001b[0m \u001b[0mfig\u001b[0m\u001b[1;33m:\u001b[0m \u001b[0mretina_figure\u001b[0m\u001b[1;33m(\u001b[0m\u001b[0mfig\u001b[0m\u001b[1;33m,\u001b[0m \u001b[1;33m**\u001b[0m\u001b[0mkwargs\u001b[0m\u001b[1;33m)\u001b[0m\u001b[1;33m)\u001b[0m\u001b[1;33m\u001b[0m\u001b[0m\n",
      "\u001b[1;32m~\\Anaconda3\\envs\\u4-s1-nlp\\lib\\site-packages\\IPython\\core\\pylabtools.py\u001b[0m in \u001b[0;36mprint_figure\u001b[1;34m(fig, fmt, bbox_inches, **kwargs)\u001b[0m\n\u001b[0;32m    130\u001b[0m         \u001b[0mFigureCanvasBase\u001b[0m\u001b[1;33m(\u001b[0m\u001b[0mfig\u001b[0m\u001b[1;33m)\u001b[0m\u001b[1;33m\u001b[0m\u001b[0m\n\u001b[0;32m    131\u001b[0m \u001b[1;33m\u001b[0m\u001b[0m\n\u001b[1;32m--> 132\u001b[1;33m     \u001b[0mfig\u001b[0m\u001b[1;33m.\u001b[0m\u001b[0mcanvas\u001b[0m\u001b[1;33m.\u001b[0m\u001b[0mprint_figure\u001b[0m\u001b[1;33m(\u001b[0m\u001b[0mbytes_io\u001b[0m\u001b[1;33m,\u001b[0m \u001b[1;33m**\u001b[0m\u001b[0mkw\u001b[0m\u001b[1;33m)\u001b[0m\u001b[1;33m\u001b[0m\u001b[0m\n\u001b[0m\u001b[0;32m    133\u001b[0m     \u001b[0mdata\u001b[0m \u001b[1;33m=\u001b[0m \u001b[0mbytes_io\u001b[0m\u001b[1;33m.\u001b[0m\u001b[0mgetvalue\u001b[0m\u001b[1;33m(\u001b[0m\u001b[1;33m)\u001b[0m\u001b[1;33m\u001b[0m\u001b[0m\n\u001b[0;32m    134\u001b[0m     \u001b[1;32mif\u001b[0m \u001b[0mfmt\u001b[0m \u001b[1;33m==\u001b[0m \u001b[1;34m'svg'\u001b[0m\u001b[1;33m:\u001b[0m\u001b[1;33m\u001b[0m\u001b[0m\n",
      "\u001b[1;32m~\\Anaconda3\\envs\\u4-s1-nlp\\lib\\site-packages\\matplotlib\\backend_bases.py\u001b[0m in \u001b[0;36mprint_figure\u001b[1;34m(self, filename, dpi, facecolor, edgecolor, orientation, format, bbox_inches, **kwargs)\u001b[0m\n\u001b[0;32m   2065\u001b[0m                         functools.partial(\n\u001b[0;32m   2066\u001b[0m                             print_method, dpi=dpi, orientation=orientation))\n\u001b[1;32m-> 2067\u001b[1;33m                     \u001b[0mself\u001b[0m\u001b[1;33m.\u001b[0m\u001b[0mfigure\u001b[0m\u001b[1;33m.\u001b[0m\u001b[0mdraw\u001b[0m\u001b[1;33m(\u001b[0m\u001b[0mrenderer\u001b[0m\u001b[1;33m)\u001b[0m\u001b[1;33m\u001b[0m\u001b[0m\n\u001b[0m\u001b[0;32m   2068\u001b[0m                     \u001b[0mbbox_artists\u001b[0m \u001b[1;33m=\u001b[0m \u001b[0mkwargs\u001b[0m\u001b[1;33m.\u001b[0m\u001b[0mpop\u001b[0m\u001b[1;33m(\u001b[0m\u001b[1;34m\"bbox_extra_artists\"\u001b[0m\u001b[1;33m,\u001b[0m \u001b[1;32mNone\u001b[0m\u001b[1;33m)\u001b[0m\u001b[1;33m\u001b[0m\u001b[0m\n\u001b[0;32m   2069\u001b[0m                     bbox_inches = self.figure.get_tightbbox(renderer,\n",
      "\u001b[1;32m~\\Anaconda3\\envs\\u4-s1-nlp\\lib\\site-packages\\matplotlib\\artist.py\u001b[0m in \u001b[0;36mdraw_wrapper\u001b[1;34m(artist, renderer, *args, **kwargs)\u001b[0m\n\u001b[0;32m     36\u001b[0m                 \u001b[0mrenderer\u001b[0m\u001b[1;33m.\u001b[0m\u001b[0mstart_filter\u001b[0m\u001b[1;33m(\u001b[0m\u001b[1;33m)\u001b[0m\u001b[1;33m\u001b[0m\u001b[0m\n\u001b[0;32m     37\u001b[0m \u001b[1;33m\u001b[0m\u001b[0m\n\u001b[1;32m---> 38\u001b[1;33m             \u001b[1;32mreturn\u001b[0m \u001b[0mdraw\u001b[0m\u001b[1;33m(\u001b[0m\u001b[0martist\u001b[0m\u001b[1;33m,\u001b[0m \u001b[0mrenderer\u001b[0m\u001b[1;33m,\u001b[0m \u001b[1;33m*\u001b[0m\u001b[0margs\u001b[0m\u001b[1;33m,\u001b[0m \u001b[1;33m**\u001b[0m\u001b[0mkwargs\u001b[0m\u001b[1;33m)\u001b[0m\u001b[1;33m\u001b[0m\u001b[0m\n\u001b[0m\u001b[0;32m     39\u001b[0m         \u001b[1;32mfinally\u001b[0m\u001b[1;33m:\u001b[0m\u001b[1;33m\u001b[0m\u001b[0m\n\u001b[0;32m     40\u001b[0m             \u001b[1;32mif\u001b[0m \u001b[0martist\u001b[0m\u001b[1;33m.\u001b[0m\u001b[0mget_agg_filter\u001b[0m\u001b[1;33m(\u001b[0m\u001b[1;33m)\u001b[0m \u001b[1;32mis\u001b[0m \u001b[1;32mnot\u001b[0m \u001b[1;32mNone\u001b[0m\u001b[1;33m:\u001b[0m\u001b[1;33m\u001b[0m\u001b[0m\n",
      "\u001b[1;32m~\\Anaconda3\\envs\\u4-s1-nlp\\lib\\site-packages\\matplotlib\\figure.py\u001b[0m in \u001b[0;36mdraw\u001b[1;34m(self, renderer)\u001b[0m\n\u001b[0;32m   1734\u001b[0m             \u001b[0mself\u001b[0m\u001b[1;33m.\u001b[0m\u001b[0mpatch\u001b[0m\u001b[1;33m.\u001b[0m\u001b[0mdraw\u001b[0m\u001b[1;33m(\u001b[0m\u001b[0mrenderer\u001b[0m\u001b[1;33m)\u001b[0m\u001b[1;33m\u001b[0m\u001b[0m\n\u001b[0;32m   1735\u001b[0m             mimage._draw_list_compositing_images(\n\u001b[1;32m-> 1736\u001b[1;33m                 renderer, self, artists, self.suppressComposite)\n\u001b[0m\u001b[0;32m   1737\u001b[0m \u001b[1;33m\u001b[0m\u001b[0m\n\u001b[0;32m   1738\u001b[0m             \u001b[0mrenderer\u001b[0m\u001b[1;33m.\u001b[0m\u001b[0mclose_group\u001b[0m\u001b[1;33m(\u001b[0m\u001b[1;34m'figure'\u001b[0m\u001b[1;33m)\u001b[0m\u001b[1;33m\u001b[0m\u001b[0m\n",
      "\u001b[1;32m~\\Anaconda3\\envs\\u4-s1-nlp\\lib\\site-packages\\matplotlib\\image.py\u001b[0m in \u001b[0;36m_draw_list_compositing_images\u001b[1;34m(renderer, parent, artists, suppress_composite)\u001b[0m\n\u001b[0;32m    135\u001b[0m     \u001b[1;32mif\u001b[0m \u001b[0mnot_composite\u001b[0m \u001b[1;32mor\u001b[0m \u001b[1;32mnot\u001b[0m \u001b[0mhas_images\u001b[0m\u001b[1;33m:\u001b[0m\u001b[1;33m\u001b[0m\u001b[0m\n\u001b[0;32m    136\u001b[0m         \u001b[1;32mfor\u001b[0m \u001b[0ma\u001b[0m \u001b[1;32min\u001b[0m \u001b[0martists\u001b[0m\u001b[1;33m:\u001b[0m\u001b[1;33m\u001b[0m\u001b[0m\n\u001b[1;32m--> 137\u001b[1;33m             \u001b[0ma\u001b[0m\u001b[1;33m.\u001b[0m\u001b[0mdraw\u001b[0m\u001b[1;33m(\u001b[0m\u001b[0mrenderer\u001b[0m\u001b[1;33m)\u001b[0m\u001b[1;33m\u001b[0m\u001b[0m\n\u001b[0m\u001b[0;32m    138\u001b[0m     \u001b[1;32melse\u001b[0m\u001b[1;33m:\u001b[0m\u001b[1;33m\u001b[0m\u001b[0m\n\u001b[0;32m    139\u001b[0m         \u001b[1;31m# Composite any adjacent images together\u001b[0m\u001b[1;33m\u001b[0m\u001b[1;33m\u001b[0m\u001b[0m\n",
      "\u001b[1;32m~\\Anaconda3\\envs\\u4-s1-nlp\\lib\\site-packages\\matplotlib\\artist.py\u001b[0m in \u001b[0;36mdraw_wrapper\u001b[1;34m(artist, renderer, *args, **kwargs)\u001b[0m\n\u001b[0;32m     36\u001b[0m                 \u001b[0mrenderer\u001b[0m\u001b[1;33m.\u001b[0m\u001b[0mstart_filter\u001b[0m\u001b[1;33m(\u001b[0m\u001b[1;33m)\u001b[0m\u001b[1;33m\u001b[0m\u001b[0m\n\u001b[0;32m     37\u001b[0m \u001b[1;33m\u001b[0m\u001b[0m\n\u001b[1;32m---> 38\u001b[1;33m             \u001b[1;32mreturn\u001b[0m \u001b[0mdraw\u001b[0m\u001b[1;33m(\u001b[0m\u001b[0martist\u001b[0m\u001b[1;33m,\u001b[0m \u001b[0mrenderer\u001b[0m\u001b[1;33m,\u001b[0m \u001b[1;33m*\u001b[0m\u001b[0margs\u001b[0m\u001b[1;33m,\u001b[0m \u001b[1;33m**\u001b[0m\u001b[0mkwargs\u001b[0m\u001b[1;33m)\u001b[0m\u001b[1;33m\u001b[0m\u001b[0m\n\u001b[0m\u001b[0;32m     39\u001b[0m         \u001b[1;32mfinally\u001b[0m\u001b[1;33m:\u001b[0m\u001b[1;33m\u001b[0m\u001b[0m\n\u001b[0;32m     40\u001b[0m             \u001b[1;32mif\u001b[0m \u001b[0martist\u001b[0m\u001b[1;33m.\u001b[0m\u001b[0mget_agg_filter\u001b[0m\u001b[1;33m(\u001b[0m\u001b[1;33m)\u001b[0m \u001b[1;32mis\u001b[0m \u001b[1;32mnot\u001b[0m \u001b[1;32mNone\u001b[0m\u001b[1;33m:\u001b[0m\u001b[1;33m\u001b[0m\u001b[0m\n",
      "\u001b[1;32m~\\Anaconda3\\envs\\u4-s1-nlp\\lib\\site-packages\\matplotlib\\axes\\_base.py\u001b[0m in \u001b[0;36mdraw\u001b[1;34m(self, renderer, inframe)\u001b[0m\n\u001b[0;32m   2628\u001b[0m             \u001b[0mrenderer\u001b[0m\u001b[1;33m.\u001b[0m\u001b[0mstop_rasterizing\u001b[0m\u001b[1;33m(\u001b[0m\u001b[1;33m)\u001b[0m\u001b[1;33m\u001b[0m\u001b[0m\n\u001b[0;32m   2629\u001b[0m \u001b[1;33m\u001b[0m\u001b[0m\n\u001b[1;32m-> 2630\u001b[1;33m         \u001b[0mmimage\u001b[0m\u001b[1;33m.\u001b[0m\u001b[0m_draw_list_compositing_images\u001b[0m\u001b[1;33m(\u001b[0m\u001b[0mrenderer\u001b[0m\u001b[1;33m,\u001b[0m \u001b[0mself\u001b[0m\u001b[1;33m,\u001b[0m \u001b[0martists\u001b[0m\u001b[1;33m)\u001b[0m\u001b[1;33m\u001b[0m\u001b[0m\n\u001b[0m\u001b[0;32m   2631\u001b[0m \u001b[1;33m\u001b[0m\u001b[0m\n\u001b[0;32m   2632\u001b[0m         \u001b[0mrenderer\u001b[0m\u001b[1;33m.\u001b[0m\u001b[0mclose_group\u001b[0m\u001b[1;33m(\u001b[0m\u001b[1;34m'axes'\u001b[0m\u001b[1;33m)\u001b[0m\u001b[1;33m\u001b[0m\u001b[0m\n",
      "\u001b[1;32m~\\Anaconda3\\envs\\u4-s1-nlp\\lib\\site-packages\\matplotlib\\image.py\u001b[0m in \u001b[0;36m_draw_list_compositing_images\u001b[1;34m(renderer, parent, artists, suppress_composite)\u001b[0m\n\u001b[0;32m    135\u001b[0m     \u001b[1;32mif\u001b[0m \u001b[0mnot_composite\u001b[0m \u001b[1;32mor\u001b[0m \u001b[1;32mnot\u001b[0m \u001b[0mhas_images\u001b[0m\u001b[1;33m:\u001b[0m\u001b[1;33m\u001b[0m\u001b[0m\n\u001b[0;32m    136\u001b[0m         \u001b[1;32mfor\u001b[0m \u001b[0ma\u001b[0m \u001b[1;32min\u001b[0m \u001b[0martists\u001b[0m\u001b[1;33m:\u001b[0m\u001b[1;33m\u001b[0m\u001b[0m\n\u001b[1;32m--> 137\u001b[1;33m             \u001b[0ma\u001b[0m\u001b[1;33m.\u001b[0m\u001b[0mdraw\u001b[0m\u001b[1;33m(\u001b[0m\u001b[0mrenderer\u001b[0m\u001b[1;33m)\u001b[0m\u001b[1;33m\u001b[0m\u001b[0m\n\u001b[0m\u001b[0;32m    138\u001b[0m     \u001b[1;32melse\u001b[0m\u001b[1;33m:\u001b[0m\u001b[1;33m\u001b[0m\u001b[0m\n\u001b[0;32m    139\u001b[0m         \u001b[1;31m# Composite any adjacent images together\u001b[0m\u001b[1;33m\u001b[0m\u001b[1;33m\u001b[0m\u001b[0m\n",
      "\u001b[1;32m~\\Anaconda3\\envs\\u4-s1-nlp\\lib\\site-packages\\matplotlib\\artist.py\u001b[0m in \u001b[0;36mdraw_wrapper\u001b[1;34m(artist, renderer, *args, **kwargs)\u001b[0m\n\u001b[0;32m     36\u001b[0m                 \u001b[0mrenderer\u001b[0m\u001b[1;33m.\u001b[0m\u001b[0mstart_filter\u001b[0m\u001b[1;33m(\u001b[0m\u001b[1;33m)\u001b[0m\u001b[1;33m\u001b[0m\u001b[0m\n\u001b[0;32m     37\u001b[0m \u001b[1;33m\u001b[0m\u001b[0m\n\u001b[1;32m---> 38\u001b[1;33m             \u001b[1;32mreturn\u001b[0m \u001b[0mdraw\u001b[0m\u001b[1;33m(\u001b[0m\u001b[0martist\u001b[0m\u001b[1;33m,\u001b[0m \u001b[0mrenderer\u001b[0m\u001b[1;33m,\u001b[0m \u001b[1;33m*\u001b[0m\u001b[0margs\u001b[0m\u001b[1;33m,\u001b[0m \u001b[1;33m**\u001b[0m\u001b[0mkwargs\u001b[0m\u001b[1;33m)\u001b[0m\u001b[1;33m\u001b[0m\u001b[0m\n\u001b[0m\u001b[0;32m     39\u001b[0m         \u001b[1;32mfinally\u001b[0m\u001b[1;33m:\u001b[0m\u001b[1;33m\u001b[0m\u001b[0m\n\u001b[0;32m     40\u001b[0m             \u001b[1;32mif\u001b[0m \u001b[0martist\u001b[0m\u001b[1;33m.\u001b[0m\u001b[0mget_agg_filter\u001b[0m\u001b[1;33m(\u001b[0m\u001b[1;33m)\u001b[0m \u001b[1;32mis\u001b[0m \u001b[1;32mnot\u001b[0m \u001b[1;32mNone\u001b[0m\u001b[1;33m:\u001b[0m\u001b[1;33m\u001b[0m\u001b[0m\n",
      "\u001b[1;32m~\\Anaconda3\\envs\\u4-s1-nlp\\lib\\site-packages\\matplotlib\\text.py\u001b[0m in \u001b[0;36mdraw\u001b[1;34m(self, renderer)\u001b[0m\n\u001b[0;32m    731\u001b[0m                     textrenderer.draw_text(gc, x, y, clean_line,\n\u001b[0;32m    732\u001b[0m                                            \u001b[0mtextobj\u001b[0m\u001b[1;33m.\u001b[0m\u001b[0m_fontproperties\u001b[0m\u001b[1;33m,\u001b[0m \u001b[0mangle\u001b[0m\u001b[1;33m,\u001b[0m\u001b[1;33m\u001b[0m\u001b[0m\n\u001b[1;32m--> 733\u001b[1;33m                                            ismath=ismath, mtext=mtext)\n\u001b[0m\u001b[0;32m    734\u001b[0m \u001b[1;33m\u001b[0m\u001b[0m\n\u001b[0;32m    735\u001b[0m         \u001b[0mgc\u001b[0m\u001b[1;33m.\u001b[0m\u001b[0mrestore\u001b[0m\u001b[1;33m(\u001b[0m\u001b[1;33m)\u001b[0m\u001b[1;33m\u001b[0m\u001b[0m\n",
      "\u001b[1;32m~\\Anaconda3\\envs\\u4-s1-nlp\\lib\\site-packages\\matplotlib\\backends\\backend_agg.py\u001b[0m in \u001b[0;36mdraw_text\u001b[1;34m(self, gc, x, y, s, prop, angle, ismath, mtext)\u001b[0m\n\u001b[0;32m    182\u001b[0m         \u001b[1;31m# space) in the following call to draw_text_image).\u001b[0m\u001b[1;33m\u001b[0m\u001b[1;33m\u001b[0m\u001b[0m\n\u001b[0;32m    183\u001b[0m         \u001b[0mfont\u001b[0m\u001b[1;33m.\u001b[0m\u001b[0mset_text\u001b[0m\u001b[1;33m(\u001b[0m\u001b[0ms\u001b[0m\u001b[1;33m,\u001b[0m \u001b[1;36m0\u001b[0m\u001b[1;33m,\u001b[0m \u001b[0mflags\u001b[0m\u001b[1;33m=\u001b[0m\u001b[0mflags\u001b[0m\u001b[1;33m)\u001b[0m\u001b[1;33m\u001b[0m\u001b[0m\n\u001b[1;32m--> 184\u001b[1;33m         \u001b[0mfont\u001b[0m\u001b[1;33m.\u001b[0m\u001b[0mdraw_glyphs_to_bitmap\u001b[0m\u001b[1;33m(\u001b[0m\u001b[0mantialiased\u001b[0m\u001b[1;33m=\u001b[0m\u001b[0mrcParams\u001b[0m\u001b[1;33m[\u001b[0m\u001b[1;34m'text.antialiased'\u001b[0m\u001b[1;33m]\u001b[0m\u001b[1;33m)\u001b[0m\u001b[1;33m\u001b[0m\u001b[0m\n\u001b[0m\u001b[0;32m    185\u001b[0m         \u001b[0md\u001b[0m \u001b[1;33m=\u001b[0m \u001b[0mfont\u001b[0m\u001b[1;33m.\u001b[0m\u001b[0mget_descent\u001b[0m\u001b[1;33m(\u001b[0m\u001b[1;33m)\u001b[0m \u001b[1;33m/\u001b[0m \u001b[1;36m64.0\u001b[0m\u001b[1;33m\u001b[0m\u001b[0m\n\u001b[0;32m    186\u001b[0m         \u001b[1;31m# The descent needs to be adjusted for the angle.\u001b[0m\u001b[1;33m\u001b[0m\u001b[1;33m\u001b[0m\u001b[0m\n",
      "\u001b[1;31mRuntimeError\u001b[0m: In draw_glyphs_to_bitmap: Could not convert glyph to bitmap (error code 0x62)"
     ]
    },
    {
     "data": {
      "text/plain": [
       "<Figure size 1008x576 with 1 Axes>"
      ]
     },
     "metadata": {
      "needs_background": "light"
     },
     "output_type": "display_data"
    }
   ],
   "source": [
    "# create a nice big plot \n",
    "plt.figure(figsize=(14,8))\n",
    "\n",
    "# plot the scatter plot of where the words will be\n",
    "plt.scatter(word_vecs_2d[:,0], word_vecs_2d[:,1])\n",
    "\n",
    "# for each word and coordinate pair: draw the text on the plot\n",
    "for word, coord in zip(job['description'], word_vecs_2d):\n",
    "    x, y = coord\n",
    "    plt.text(x, y, word, size= 15)\n",
    "\n",
    "# show the plot\n",
    "plt.show()"
   ]
  },
  {
   "cell_type": "markdown",
   "metadata": {
    "colab_type": "text",
    "id": "FiDfTWceoRkH"
   },
   "source": [
    "## Stretch Goals\n",
    "\n",
    " - Try different visualizations for words and frequencies - what story do you want to tell with the data?\n",
    " - Scrape Job Listings for the job title \"Data Analyst\". How do these differ from Data Scientist Job Listings\n",
    " - Try and identify requirements for experience specific technologies that are asked for in the job listings. How are those distributed among the job listings?\n",
    " - Use a clustering algorithm to cluster documents by their most important terms. Do the clusters reveal any common themes?\n",
    "  - **Hint:** K-means might not be the best algorithm for this. Do a little bit of research to see what might be good for this. Also, remember that algorithms that depend on Euclidean distance break down with high dimensional data.\n",
    " - Create a labeled dataset - which jobs will you apply for? Train a model to select the jobs you are most likely to apply for. :) "
   ]
  }
 ],
 "metadata": {
  "colab": {
   "collapsed_sections": [],
   "name": "LS_DS_422_BOW_Assignment.ipynb",
   "provenance": [],
   "version": "0.3.2"
  },
  "kernel_info": {
   "name": "python3"
  },
  "kernelspec": {
   "display_name": "U4-S1-NLP (Python3)",
   "language": "python",
   "name": "u4-s1-nlp"
  },
  "language_info": {
   "codemirror_mode": {
    "name": "ipython",
    "version": 3
   },
   "file_extension": ".py",
   "mimetype": "text/x-python",
   "name": "python",
   "nbconvert_exporter": "python",
   "pygments_lexer": "ipython3",
   "version": "3.7.0"
  },
  "nteract": {
   "version": "0.14.3"
  }
 },
 "nbformat": 4,
 "nbformat_minor": 4
}
