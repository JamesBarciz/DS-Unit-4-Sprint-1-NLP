{
 "cells": [
  {
   "cell_type": "markdown",
   "metadata": {},
   "source": [
    "<img align=\"left\" src=\"https://lever-client-logos.s3.amazonaws.com/864372b1-534c-480e-acd5-9711f850815c-1524247202159.png\" width=200>\n",
    "<br></br>\n",
    "<br></br>\n",
    "\n",
    "# Natural Language Processing (NLP)\n",
    "## *Data Science Unit 4 Sprint 1 Assignment 1*\n",
    "\n",
    "Your goal in this assignment: find the attributes of the best & worst coffee shops in the dataset. The text is fairly raw: dates in the review, extra words in the `star_rating` column, etc. You'll probably want to clean that stuff up for a better analysis. \n",
    "\n",
    "Analyze the corpus of text using text visualizations of token frequency. Try cleaning the data as much as possible. Try the following techniques: \n",
    "- Lemmatization\n",
    "- Custom stopword removal\n",
    "\n",
    "Keep in mind the attributes of good tokens. Once you have a solid baseline, layer in the star rating in your visualization(s). Key part of this assignment - produce a write-up of the attributes of the best and worst coffee shops. Based on your analysis, what makes the best the best and the worst the worst. Use graphs and numbesr from your analysis to support your conclusions. There should be plenty of markdown cells! :coffee:"
   ]
  },
  {
   "cell_type": "code",
   "execution_count": 1,
   "metadata": {},
   "outputs": [
    {
     "data": {
      "image/jpeg": "[encoded data removed]",
      "text/html": [
       "\n",
       "        <iframe\n",
       "            width=\"400\"\n",
       "            height=\"300\"\n",
       "            src=\"https://www.youtube.com/embed/Jml7NVYm8cs\"\n",
       "            frameborder=\"0\"\n",
       "            allowfullscreen\n",
       "        ></iframe>\n",
       "        "
      ],
      "text/plain": [
       "<IPython.lib.display.YouTubeVideo at 0x7a648c21cda0>"
      ]
     },
     "execution_count": 1,
     "metadata": {},
     "output_type": "execute_result"
    }
   ],
   "source": [
    "from IPython.display import YouTubeVideo\n",
    "\n",
    "YouTubeVideo('Jml7NVYm8cs')"
   ]
  },
  {
   "cell_type": "code",
   "execution_count": 1,
   "metadata": {},
   "outputs": [
    {
     "data": {
      "text/plain": [
       "'C:\\\\Users\\\\James B\\\\repos\\\\lambda_school_ds\\\\unit4\\\\DS-Unit-4-Sprint-1-NLP\\\\module1-text-data'"
      ]
     },
     "execution_count": 1,
     "metadata": {},
     "output_type": "execute_result"
    }
   ],
   "source": [
    "%pwd"
   ]
  },
  {
   "cell_type": "code",
   "execution_count": 42,
   "metadata": {},
   "outputs": [
    {
     "data": {
      "text/html": [
       "<div>\n",
       "<style scoped>\n",
       "    .dataframe tbody tr th:only-of-type {\n",
       "        vertical-align: middle;\n",
       "    }\n",
       "\n",
       "    .dataframe tbody tr th {\n",
       "        vertical-align: top;\n",
       "    }\n",
       "\n",
       "    .dataframe thead th {\n",
       "        text-align: right;\n",
       "    }\n",
       "</style>\n",
       "<table border=\"1\" class=\"dataframe\">\n",
       "  <thead>\n",
       "    <tr style=\"text-align: right;\">\n",
       "      <th></th>\n",
       "      <th>coffee_shop_name</th>\n",
       "      <th>full_review_text</th>\n",
       "      <th>star_rating</th>\n",
       "    </tr>\n",
       "  </thead>\n",
       "  <tbody>\n",
       "    <tr>\n",
       "      <th>0</th>\n",
       "      <td>The Factory - Cafe With a Soul</td>\n",
       "      <td>11/25/2016 1 check-in Love love loved the atm...</td>\n",
       "      <td>5.0 star rating</td>\n",
       "    </tr>\n",
       "    <tr>\n",
       "      <th>1</th>\n",
       "      <td>The Factory - Cafe With a Soul</td>\n",
       "      <td>12/2/2016 Listed in Date Night: Austin, Ambia...</td>\n",
       "      <td>4.0 star rating</td>\n",
       "    </tr>\n",
       "    <tr>\n",
       "      <th>2</th>\n",
       "      <td>The Factory - Cafe With a Soul</td>\n",
       "      <td>11/30/2016 1 check-in Listed in Brunch Spots ...</td>\n",
       "      <td>4.0 star rating</td>\n",
       "    </tr>\n",
       "    <tr>\n",
       "      <th>3</th>\n",
       "      <td>The Factory - Cafe With a Soul</td>\n",
       "      <td>11/25/2016 Very cool decor! Good drinks Nice ...</td>\n",
       "      <td>2.0 star rating</td>\n",
       "    </tr>\n",
       "    <tr>\n",
       "      <th>4</th>\n",
       "      <td>The Factory - Cafe With a Soul</td>\n",
       "      <td>12/3/2016 1 check-in They are located within ...</td>\n",
       "      <td>4.0 star rating</td>\n",
       "    </tr>\n",
       "  </tbody>\n",
       "</table>\n",
       "</div>"
      ],
      "text/plain": [
       "                  coffee_shop_name  \\\n",
       "0  The Factory - Cafe With a Soul    \n",
       "1  The Factory - Cafe With a Soul    \n",
       "2  The Factory - Cafe With a Soul    \n",
       "3  The Factory - Cafe With a Soul    \n",
       "4  The Factory - Cafe With a Soul    \n",
       "\n",
       "                                    full_review_text        star_rating  \n",
       "0   11/25/2016 1 check-in Love love loved the atm...   5.0 star rating   \n",
       "1   12/2/2016 Listed in Date Night: Austin, Ambia...   4.0 star rating   \n",
       "2   11/30/2016 1 check-in Listed in Brunch Spots ...   4.0 star rating   \n",
       "3   11/25/2016 Very cool decor! Good drinks Nice ...   2.0 star rating   \n",
       "4   12/3/2016 1 check-in They are located within ...   4.0 star rating   "
      ]
     },
     "execution_count": 42,
     "metadata": {},
     "output_type": "execute_result"
    }
   ],
   "source": [
    "import pandas as pd\n",
    "\n",
    "url = \"https://raw.githubusercontent.com/LambdaSchool/DS-Unit-4-Sprint-1-NLP/master/module1-text-data/data/yelp_coffeeshop_review_data.csv\"\n",
    "\n",
    "shops = pd.read_csv(url)\n",
    "shops.head()"
   ]
  },
  {
   "cell_type": "code",
   "execution_count": 43,
   "metadata": {},
   "outputs": [],
   "source": [
    "import seaborn as sns\n",
    "import re\n",
    "import numpy as np"
   ]
  },
  {
   "cell_type": "code",
   "execution_count": 44,
   "metadata": {},
   "outputs": [
    {
     "data": {
      "text/plain": [
       "['11/25/2016', '12/2/2016', '11/30/2016', '11/25/2016', '12/3/2016']"
      ]
     },
     "execution_count": 44,
     "metadata": {},
     "output_type": "execute_result"
    }
   ],
   "source": [
    "dates = []\n",
    "\n",
    "for ob in shops['full_review_text'].str.split(' '):\n",
    "    dates.append(ob[1])\n",
    "dates[:5]\n",
    "# dates = []\n",
    "# for text in shops['full_review_text']:\n",
    "#     dates.append(re.findall(r'\\b[0-3]?[0-9]/[0-3]?[0-9]/(?:[0-9]{2})?[0-9]{2}\\b', text)[0])\n",
    "# shops['review_date'] = dates"
   ]
  },
  {
   "cell_type": "code",
   "execution_count": 45,
   "metadata": {},
   "outputs": [
    {
     "data": {
      "text/html": [
       "<div>\n",
       "<style scoped>\n",
       "    .dataframe tbody tr th:only-of-type {\n",
       "        vertical-align: middle;\n",
       "    }\n",
       "\n",
       "    .dataframe tbody tr th {\n",
       "        vertical-align: top;\n",
       "    }\n",
       "\n",
       "    .dataframe thead th {\n",
       "        text-align: right;\n",
       "    }\n",
       "</style>\n",
       "<table border=\"1\" class=\"dataframe\">\n",
       "  <thead>\n",
       "    <tr style=\"text-align: right;\">\n",
       "      <th></th>\n",
       "      <th>coffee_shop_name</th>\n",
       "      <th>full_review_text</th>\n",
       "      <th>star_rating</th>\n",
       "      <th>date</th>\n",
       "    </tr>\n",
       "  </thead>\n",
       "  <tbody>\n",
       "    <tr>\n",
       "      <th>0</th>\n",
       "      <td>The Factory - Cafe With a Soul</td>\n",
       "      <td>11/25/2016 1 check-in Love love loved the atm...</td>\n",
       "      <td>5.0 star rating</td>\n",
       "      <td>11/25/2016</td>\n",
       "    </tr>\n",
       "    <tr>\n",
       "      <th>1</th>\n",
       "      <td>The Factory - Cafe With a Soul</td>\n",
       "      <td>12/2/2016 Listed in Date Night: Austin, Ambia...</td>\n",
       "      <td>4.0 star rating</td>\n",
       "      <td>12/2/2016</td>\n",
       "    </tr>\n",
       "    <tr>\n",
       "      <th>2</th>\n",
       "      <td>The Factory - Cafe With a Soul</td>\n",
       "      <td>11/30/2016 1 check-in Listed in Brunch Spots ...</td>\n",
       "      <td>4.0 star rating</td>\n",
       "      <td>11/30/2016</td>\n",
       "    </tr>\n",
       "    <tr>\n",
       "      <th>3</th>\n",
       "      <td>The Factory - Cafe With a Soul</td>\n",
       "      <td>11/25/2016 Very cool decor! Good drinks Nice ...</td>\n",
       "      <td>2.0 star rating</td>\n",
       "      <td>11/25/2016</td>\n",
       "    </tr>\n",
       "    <tr>\n",
       "      <th>4</th>\n",
       "      <td>The Factory - Cafe With a Soul</td>\n",
       "      <td>12/3/2016 1 check-in They are located within ...</td>\n",
       "      <td>4.0 star rating</td>\n",
       "      <td>12/3/2016</td>\n",
       "    </tr>\n",
       "  </tbody>\n",
       "</table>\n",
       "</div>"
      ],
      "text/plain": [
       "                  coffee_shop_name  \\\n",
       "0  The Factory - Cafe With a Soul    \n",
       "1  The Factory - Cafe With a Soul    \n",
       "2  The Factory - Cafe With a Soul    \n",
       "3  The Factory - Cafe With a Soul    \n",
       "4  The Factory - Cafe With a Soul    \n",
       "\n",
       "                                    full_review_text        star_rating  \\\n",
       "0   11/25/2016 1 check-in Love love loved the atm...   5.0 star rating    \n",
       "1   12/2/2016 Listed in Date Night: Austin, Ambia...   4.0 star rating    \n",
       "2   11/30/2016 1 check-in Listed in Brunch Spots ...   4.0 star rating    \n",
       "3   11/25/2016 Very cool decor! Good drinks Nice ...   2.0 star rating    \n",
       "4   12/3/2016 1 check-in They are located within ...   4.0 star rating    \n",
       "\n",
       "         date  \n",
       "0  11/25/2016  \n",
       "1   12/2/2016  \n",
       "2  11/30/2016  \n",
       "3  11/25/2016  \n",
       "4   12/3/2016  "
      ]
     },
     "execution_count": 45,
     "metadata": {},
     "output_type": "execute_result"
    }
   ],
   "source": [
    "shops['date'] = dates\n",
    "shops.head()"
   ]
  },
  {
   "cell_type": "code",
   "execution_count": 46,
   "metadata": {},
   "outputs": [],
   "source": [
    "def apply_regex(text):\n",
    "    for strg in text:\n",
    "        new = re.sub(r'[^a-zA-Z ^0-9]', '', text)\n",
    "        return new"
   ]
  },
  {
   "cell_type": "code",
   "execution_count": 47,
   "metadata": {},
   "outputs": [],
   "source": [
    "shops['full_review_text'] = shops['full_review_text'].apply(apply_regex)\n",
    "shops['coffee_shop_name'] = shops['coffee_shop_name'].apply(apply_regex)"
   ]
  },
  {
   "cell_type": "code",
   "execution_count": 48,
   "metadata": {},
   "outputs": [],
   "source": [
    "shops['full_review_text'] = shops['full_review_text'].apply(lambda x: x.lower())"
   ]
  },
  {
   "cell_type": "code",
   "execution_count": 49,
   "metadata": {},
   "outputs": [],
   "source": [
    "shops['full_review_text'] = [ob[2:] for ob in shops['full_review_text'].str.split(' ')]"
   ]
  },
  {
   "cell_type": "code",
   "execution_count": 50,
   "metadata": {},
   "outputs": [
    {
     "data": {
      "text/plain": [
       "0    [1, checkin, love, love, loved, the, atmospher...\n",
       "1    [listed, in, date, night, austin, ambiance, in...\n",
       "2    [1, checkin, listed, in, brunch, spots, i, lov...\n",
       "3    [very, cool, decor, good, drinks, nice, seatin...\n",
       "4    [1, checkin, they, are, located, within, the, ...\n",
       "Name: full_review_text, dtype: object"
      ]
     },
     "execution_count": 50,
     "metadata": {},
     "output_type": "execute_result"
    }
   ],
   "source": [
    "shops['full_review_text'].head()"
   ]
  },
  {
   "cell_type": "code",
   "execution_count": 51,
   "metadata": {},
   "outputs": [
    {
     "data": {
      "text/plain": [
       "0    [the, factory, , cafe, with, a, soul, ]\n",
       "1    [the, factory, , cafe, with, a, soul, ]\n",
       "2    [the, factory, , cafe, with, a, soul, ]\n",
       "3    [the, factory, , cafe, with, a, soul, ]\n",
       "4    [the, factory, , cafe, with, a, soul, ]\n",
       "Name: coffee_shop_name, dtype: object"
      ]
     },
     "execution_count": 51,
     "metadata": {},
     "output_type": "execute_result"
    }
   ],
   "source": [
    "shops['coffee_shop_name'] = shops['coffee_shop_name'].apply(lambda x: x.lower())\n",
    "shops['coffee_shop_name'] = shops['coffee_shop_name'].str.split(' ')\n",
    "shops['coffee_shop_name'].head()"
   ]
  },
  {
   "cell_type": "code",
   "execution_count": 52,
   "metadata": {},
   "outputs": [],
   "source": [
    "shops['star_rating'] = shops['star_rating'].str.split(' ')"
   ]
  },
  {
   "cell_type": "code",
   "execution_count": 53,
   "metadata": {},
   "outputs": [],
   "source": [
    "ratings = []\n",
    "for rating in shops['star_rating']:\n",
    "    ratings.append(rating[1])\n",
    "shops['star_rating'] = ratings"
   ]
  },
  {
   "cell_type": "code",
   "execution_count": 54,
   "metadata": {},
   "outputs": [],
   "source": [
    "# reviews = []\n",
    "# shop_name = []\n",
    "# for text in shops['full_review_text']:\n",
    "#     reviews.append(' '.join(text))\n",
    "# for name in shops['coffee_shop_name']:\n",
    "#     shop_name.append(' '.join(name))\n",
    "# shops['full_review_text'] = reviews\n",
    "# shops['coffee_shop_name'] = shop_name"
   ]
  },
  {
   "cell_type": "code",
   "execution_count": 55,
   "metadata": {},
   "outputs": [
    {
     "data": {
      "text/plain": [
       "0       5.0\n",
       "1       4.0\n",
       "2       4.0\n",
       "3       2.0\n",
       "4       4.0\n",
       "       ... \n",
       "7611    4.0\n",
       "7612    5.0\n",
       "7613    4.0\n",
       "7614    3.0\n",
       "7615    4.0\n",
       "Name: star_rating, Length: 7616, dtype: object"
      ]
     },
     "execution_count": 55,
     "metadata": {},
     "output_type": "execute_result"
    }
   ],
   "source": [
    "shops['star_rating']"
   ]
  },
  {
   "cell_type": "code",
   "execution_count": 56,
   "metadata": {},
   "outputs": [
    {
     "data": {
      "text/plain": [
       "[('the', 34809),\n",
       " ('', 29517),\n",
       " ('and', 26650),\n",
       " ('a', 22755),\n",
       " ('i', 20237),\n",
       " ('to', 17164),\n",
       " ('of', 12600),\n",
       " ('is', 11999),\n",
       " ('coffee', 10353),\n",
       " ('was', 9707),\n",
       " ('in', 9546),\n",
       " ('it', 9379),\n",
       " ('for', 8680),\n",
       " ('this', 6583),\n",
       " ('but', 6501),\n",
       " ('with', 6332),\n",
       " ('my', 6202),\n",
       " ('they', 6165),\n",
       " ('that', 6151),\n",
       " ('you', 5847)]"
      ]
     },
     "execution_count": 56,
     "metadata": {},
     "output_type": "execute_result"
    }
   ],
   "source": [
    "from collections import Counter\n",
    "\n",
    "word_counts = Counter()\n",
    "shops['full_review_text'].apply(lambda x: word_counts.update(x))\n",
    "word_counts.most_common(20)"
   ]
  },
  {
   "cell_type": "code",
   "execution_count": 57,
   "metadata": {},
   "outputs": [
    {
     "data": {
      "text/plain": [
       "[('', 8334),\n",
       " ('coffee', 3307),\n",
       " ('cafe', 788),\n",
       " ('the', 554),\n",
       " ('bar', 500),\n",
       " ('epoch', 400),\n",
       " ('coffeehouse', 300),\n",
       " ('halcyon', 300),\n",
       " ('factory', 244),\n",
       " ('with', 244),\n",
       " ('a', 244),\n",
       " ('soul', 244),\n",
       " ('medici', 243),\n",
       " ('beer', 236),\n",
       " ('austin', 231),\n",
       " ('caf', 200),\n",
       " ('venezia', 200),\n",
       " ('italian', 200),\n",
       " ('gelato', 200),\n",
       " ('houndstooth', 200)]"
      ]
     },
     "execution_count": 57,
     "metadata": {},
     "output_type": "execute_result"
    }
   ],
   "source": [
    "word_counts_name = Counter()\n",
    "shops['coffee_shop_name'].apply(lambda x: word_counts_name.update(x))\n",
    "word_counts_name.most_common(20)"
   ]
  },
  {
   "cell_type": "markdown",
   "metadata": {},
   "source": [
    "## How do we want to analyze these coffee shop tokens? \n",
    "\n",
    "- Overall Word / Token Count\n",
    "- View Counts by Rating \n",
    "- *Hint:* a 'bad' coffee shops has a rating betweeen 1 & 3 based on the distribution of ratings. A 'good' coffee shop is a 4 or 5. "
   ]
  },
  {
   "cell_type": "code",
   "execution_count": 58,
   "metadata": {},
   "outputs": [],
   "source": [
    "# word count function => pandas dataframe\n",
    "def count(docs):\n",
    "    \n",
    "    word_counts = Counter()\n",
    "    appears_in = Counter()\n",
    "    \n",
    "    total_docs = len(docs)\n",
    "    \n",
    "    for doc in docs:\n",
    "        word_counts.update(doc)\n",
    "        appears_in.update(set(doc))\n",
    "        \n",
    "    temp = zip(word_counts.keys(), word_counts.values())\n",
    "    \n",
    "    wc = pd.DataFrame(temp, columns=['word', 'count'])\n",
    "    \n",
    "    wc['rank'] = wc['count'].rank(method='first', ascending=False)\n",
    "    total = wc['count'].sum()\n",
    "    \n",
    "    wc['pct_total'] = wc['count'].apply(lambda x: x / total)\n",
    "    \n",
    "    wc = wc.sort_values(by='rank')\n",
    "    wc['cul_pct_total'] = wc['pct_total'].cumsum()\n",
    "    \n",
    "    t2 = zip(appears_in.keys(), appears_in.values())\n",
    "    ac = pd.DataFrame(t2, columns=['word', 'appears_in'])\n",
    "    wc = ac.merge(wc, on='word')\n",
    "    \n",
    "    wc['appears_in_pct'] = wc['appears_in'].apply(lambda x: x / total_docs)\n",
    "    \n",
    "    return wc.sort_values(by='rank')"
   ]
  },
  {
   "cell_type": "code",
   "execution_count": 59,
   "metadata": {},
   "outputs": [
    {
     "data": {
      "text/html": [
       "<div>\n",
       "<style scoped>\n",
       "    .dataframe tbody tr th:only-of-type {\n",
       "        vertical-align: middle;\n",
       "    }\n",
       "\n",
       "    .dataframe tbody tr th {\n",
       "        vertical-align: top;\n",
       "    }\n",
       "\n",
       "    .dataframe thead th {\n",
       "        text-align: right;\n",
       "    }\n",
       "</style>\n",
       "<table border=\"1\" class=\"dataframe\">\n",
       "  <thead>\n",
       "    <tr style=\"text-align: right;\">\n",
       "      <th></th>\n",
       "      <th>word</th>\n",
       "      <th>appears_in</th>\n",
       "      <th>count</th>\n",
       "      <th>rank</th>\n",
       "      <th>pct_total</th>\n",
       "      <th>cul_pct_total</th>\n",
       "      <th>appears_in_pct</th>\n",
       "    </tr>\n",
       "  </thead>\n",
       "  <tbody>\n",
       "    <tr>\n",
       "      <th>56</th>\n",
       "      <td>the</td>\n",
       "      <td>6847</td>\n",
       "      <td>34809</td>\n",
       "      <td>1.0</td>\n",
       "      <td>0.043323</td>\n",
       "      <td>0.043323</td>\n",
       "      <td>0.899028</td>\n",
       "    </tr>\n",
       "    <tr>\n",
       "      <th>2</th>\n",
       "      <td></td>\n",
       "      <td>7616</td>\n",
       "      <td>29517</td>\n",
       "      <td>2.0</td>\n",
       "      <td>0.036736</td>\n",
       "      <td>0.080059</td>\n",
       "      <td>1.000000</td>\n",
       "    </tr>\n",
       "    <tr>\n",
       "      <th>0</th>\n",
       "      <td>and</td>\n",
       "      <td>6864</td>\n",
       "      <td>26650</td>\n",
       "      <td>3.0</td>\n",
       "      <td>0.033168</td>\n",
       "      <td>0.113227</td>\n",
       "      <td>0.901261</td>\n",
       "    </tr>\n",
       "    <tr>\n",
       "      <th>26</th>\n",
       "      <td>a</td>\n",
       "      <td>6246</td>\n",
       "      <td>22755</td>\n",
       "      <td>4.0</td>\n",
       "      <td>0.028320</td>\n",
       "      <td>0.141548</td>\n",
       "      <td>0.820116</td>\n",
       "    </tr>\n",
       "    <tr>\n",
       "      <th>37</th>\n",
       "      <td>i</td>\n",
       "      <td>5528</td>\n",
       "      <td>20237</td>\n",
       "      <td>5.0</td>\n",
       "      <td>0.025187</td>\n",
       "      <td>0.166734</td>\n",
       "      <td>0.725840</td>\n",
       "    </tr>\n",
       "  </tbody>\n",
       "</table>\n",
       "</div>"
      ],
      "text/plain": [
       "   word  appears_in  count  rank  pct_total  cul_pct_total  appears_in_pct\n",
       "56  the        6847  34809   1.0   0.043323       0.043323        0.899028\n",
       "2              7616  29517   2.0   0.036736       0.080059        1.000000\n",
       "0   and        6864  26650   3.0   0.033168       0.113227        0.901261\n",
       "26    a        6246  22755   4.0   0.028320       0.141548        0.820116\n",
       "37    i        5528  20237   5.0   0.025187       0.166734        0.725840"
      ]
     },
     "execution_count": 59,
     "metadata": {},
     "output_type": "execute_result"
    }
   ],
   "source": [
    "wc_review = count(shops['full_review_text'])\n",
    "wc_review.head()"
   ]
  },
  {
   "cell_type": "code",
   "execution_count": 60,
   "metadata": {},
   "outputs": [
    {
     "data": {
      "image/png": "[encoded data removed]",
      "text/plain": [
       "<Figure size 432x288 with 1 Axes>"
      ]
     },
     "metadata": {
      "needs_background": "light"
     },
     "output_type": "display_data"
    }
   ],
   "source": [
    "sns.lineplot(x='rank', y='cul_pct_total', data=wc_review).set_title('Cumulative Distribution of \"full_review_text\"');"
   ]
  },
  {
   "cell_type": "code",
   "execution_count": 64,
   "metadata": {},
   "outputs": [
    {
     "data": {
      "text/html": [
       "<div>\n",
       "<style scoped>\n",
       "    .dataframe tbody tr th:only-of-type {\n",
       "        vertical-align: middle;\n",
       "    }\n",
       "\n",
       "    .dataframe tbody tr th {\n",
       "        vertical-align: top;\n",
       "    }\n",
       "\n",
       "    .dataframe thead th {\n",
       "        text-align: right;\n",
       "    }\n",
       "</style>\n",
       "<table border=\"1\" class=\"dataframe\">\n",
       "  <thead>\n",
       "    <tr style=\"text-align: right;\">\n",
       "      <th></th>\n",
       "      <th>coffee_shop_name</th>\n",
       "      <th>full_review_text</th>\n",
       "      <th>star_rating</th>\n",
       "      <th>date</th>\n",
       "    </tr>\n",
       "  </thead>\n",
       "  <tbody>\n",
       "    <tr>\n",
       "      <th>0</th>\n",
       "      <td>[the, factory, , cafe, with, a, soul, ]</td>\n",
       "      <td>[1, checkin, love, love, loved, the, atmospher...</td>\n",
       "      <td>5.0</td>\n",
       "      <td>11/25/2016</td>\n",
       "    </tr>\n",
       "    <tr>\n",
       "      <th>7</th>\n",
       "      <td>[the, factory, , cafe, with, a, soul, ]</td>\n",
       "      <td>[2, checkins, love, this, place, , 5, stars, f...</td>\n",
       "      <td>5.0</td>\n",
       "      <td>11/2/2016</td>\n",
       "    </tr>\n",
       "    <tr>\n",
       "      <th>9</th>\n",
       "      <td>[the, factory, , cafe, with, a, soul, ]</td>\n",
       "      <td>[3, checkins, this, place, has, been, shown, o...</td>\n",
       "      <td>5.0</td>\n",
       "      <td>11/10/2016</td>\n",
       "    </tr>\n",
       "    <tr>\n",
       "      <th>13</th>\n",
       "      <td>[the, factory, , cafe, with, a, soul, ]</td>\n",
       "      <td>[this, is, such, a, cute, little, cafe, ive, d...</td>\n",
       "      <td>5.0</td>\n",
       "      <td>12/5/2016</td>\n",
       "    </tr>\n",
       "    <tr>\n",
       "      <th>14</th>\n",
       "      <td>[the, factory, , cafe, with, a, soul, ]</td>\n",
       "      <td>[beautiful, eccentric, coffee, shop, with, a, ...</td>\n",
       "      <td>5.0</td>\n",
       "      <td>11/13/2016</td>\n",
       "    </tr>\n",
       "    <tr>\n",
       "      <th>...</th>\n",
       "      <td>...</td>\n",
       "      <td>...</td>\n",
       "      <td>...</td>\n",
       "      <td>...</td>\n",
       "    </tr>\n",
       "    <tr>\n",
       "      <th>7599</th>\n",
       "      <td>[the, steeping, room, ]</td>\n",
       "      <td>[1, checkin, i, am, someone, that, hates, goin...</td>\n",
       "      <td>5.0</td>\n",
       "      <td>3/28/2015</td>\n",
       "    </tr>\n",
       "    <tr>\n",
       "      <th>7605</th>\n",
       "      <td>[the, steeping, room, ]</td>\n",
       "      <td>[i, got, the, chipotle, chocolate, chai, tea, ...</td>\n",
       "      <td>5.0</td>\n",
       "      <td>10/22/2015</td>\n",
       "    </tr>\n",
       "    <tr>\n",
       "      <th>7607</th>\n",
       "      <td>[the, steeping, room, ]</td>\n",
       "      <td>[this, place, is, amazing, its, one, of, my, f...</td>\n",
       "      <td>5.0</td>\n",
       "      <td>8/14/2015</td>\n",
       "    </tr>\n",
       "    <tr>\n",
       "      <th>7610</th>\n",
       "      <td>[the, steeping, room, ]</td>\n",
       "      <td>[great, food, i, havent, had, a, meal, i, did,...</td>\n",
       "      <td>5.0</td>\n",
       "      <td>3/1/2016</td>\n",
       "    </tr>\n",
       "    <tr>\n",
       "      <th>7612</th>\n",
       "      <td>[the, steeping, room, ]</td>\n",
       "      <td>[ok, the, steeping, room, is, awesome, how, do...</td>\n",
       "      <td>5.0</td>\n",
       "      <td>1/21/2016</td>\n",
       "    </tr>\n",
       "  </tbody>\n",
       "</table>\n",
       "<p>3780 rows × 4 columns</p>\n",
       "</div>"
      ],
      "text/plain": [
       "                             coffee_shop_name  \\\n",
       "0     [the, factory, , cafe, with, a, soul, ]   \n",
       "7     [the, factory, , cafe, with, a, soul, ]   \n",
       "9     [the, factory, , cafe, with, a, soul, ]   \n",
       "13    [the, factory, , cafe, with, a, soul, ]   \n",
       "14    [the, factory, , cafe, with, a, soul, ]   \n",
       "...                                       ...   \n",
       "7599                  [the, steeping, room, ]   \n",
       "7605                  [the, steeping, room, ]   \n",
       "7607                  [the, steeping, room, ]   \n",
       "7610                  [the, steeping, room, ]   \n",
       "7612                  [the, steeping, room, ]   \n",
       "\n",
       "                                       full_review_text star_rating  \\\n",
       "0     [1, checkin, love, love, loved, the, atmospher...         5.0   \n",
       "7     [2, checkins, love, this, place, , 5, stars, f...         5.0   \n",
       "9     [3, checkins, this, place, has, been, shown, o...         5.0   \n",
       "13    [this, is, such, a, cute, little, cafe, ive, d...         5.0   \n",
       "14    [beautiful, eccentric, coffee, shop, with, a, ...         5.0   \n",
       "...                                                 ...         ...   \n",
       "7599  [1, checkin, i, am, someone, that, hates, goin...         5.0   \n",
       "7605  [i, got, the, chipotle, chocolate, chai, tea, ...         5.0   \n",
       "7607  [this, place, is, amazing, its, one, of, my, f...         5.0   \n",
       "7610  [great, food, i, havent, had, a, meal, i, did,...         5.0   \n",
       "7612  [ok, the, steeping, room, is, awesome, how, do...         5.0   \n",
       "\n",
       "            date  \n",
       "0     11/25/2016  \n",
       "7      11/2/2016  \n",
       "9     11/10/2016  \n",
       "13     12/5/2016  \n",
       "14    11/13/2016  \n",
       "...          ...  \n",
       "7599   3/28/2015  \n",
       "7605  10/22/2015  \n",
       "7607   8/14/2015  \n",
       "7610    3/1/2016  \n",
       "7612   1/21/2016  \n",
       "\n",
       "[3780 rows x 4 columns]"
      ]
     },
     "execution_count": 64,
     "metadata": {},
     "output_type": "execute_result"
    }
   ],
   "source": [
    "shops[shops['star_rating']=='5.0']"
   ]
  },
  {
   "cell_type": "code",
   "execution_count": 65,
   "metadata": {},
   "outputs": [],
   "source": [
    "# I had some issues converting the floats to ints and after rerunning\n",
    "# the code, they are currently strings so, I just decided to make a\n",
    "# new column containing true/false values for star_rating >= 4.0\n",
    "rate_bool = []\n",
    "for n in shops['star_rating']:\n",
    "    if n=='5.0' or n=='4.0':\n",
    "        rate_bool.append(1)\n",
    "    else:\n",
    "        rate_bool.append(0)\n",
    "shops['is_good'] = rate_bool"
   ]
  },
  {
   "cell_type": "code",
   "execution_count": 67,
   "metadata": {},
   "outputs": [
    {
     "data": {
      "text/plain": [
       "1    6140\n",
       "0    1476\n",
       "Name: is_good, dtype: int64"
      ]
     },
     "execution_count": 67,
     "metadata": {},
     "output_type": "execute_result"
    }
   ],
   "source": [
    "# Word Count Dataframe of only 'good' coffee shops\n",
    "shops['is_good'].value_counts()"
   ]
  },
  {
   "cell_type": "code",
   "execution_count": 68,
   "metadata": {},
   "outputs": [],
   "source": [
    "# Take a subset where star_rating >= 4.0\n",
    "subset_good = shops[shops['is_good']==1]\n",
    "subset_bad = shops[shops['is_good']==0]"
   ]
  },
  {
   "cell_type": "code",
   "execution_count": 75,
   "metadata": {},
   "outputs": [
    {
     "data": {
      "text/html": [
       "<div>\n",
       "<style scoped>\n",
       "    .dataframe tbody tr th:only-of-type {\n",
       "        vertical-align: middle;\n",
       "    }\n",
       "\n",
       "    .dataframe tbody tr th {\n",
       "        vertical-align: top;\n",
       "    }\n",
       "\n",
       "    .dataframe thead th {\n",
       "        text-align: right;\n",
       "    }\n",
       "</style>\n",
       "<table border=\"1\" class=\"dataframe\">\n",
       "  <thead>\n",
       "    <tr style=\"text-align: right;\">\n",
       "      <th></th>\n",
       "      <th>word</th>\n",
       "      <th>appears_in</th>\n",
       "      <th>count</th>\n",
       "      <th>rank</th>\n",
       "      <th>pct_total</th>\n",
       "      <th>cul_pct_total</th>\n",
       "      <th>appears_in_pct</th>\n",
       "    </tr>\n",
       "  </thead>\n",
       "  <tbody>\n",
       "    <tr>\n",
       "      <th>56</th>\n",
       "      <td>the</td>\n",
       "      <td>5479</td>\n",
       "      <td>26616</td>\n",
       "      <td>1.0</td>\n",
       "      <td>0.043014</td>\n",
       "      <td>0.043014</td>\n",
       "      <td>0.892345</td>\n",
       "    </tr>\n",
       "    <tr>\n",
       "      <th>2</th>\n",
       "      <td></td>\n",
       "      <td>6140</td>\n",
       "      <td>23354</td>\n",
       "      <td>2.0</td>\n",
       "      <td>0.037742</td>\n",
       "      <td>0.080756</td>\n",
       "      <td>1.000000</td>\n",
       "    </tr>\n",
       "    <tr>\n",
       "      <th>0</th>\n",
       "      <td>and</td>\n",
       "      <td>5545</td>\n",
       "      <td>21311</td>\n",
       "      <td>3.0</td>\n",
       "      <td>0.034440</td>\n",
       "      <td>0.115196</td>\n",
       "      <td>0.903094</td>\n",
       "    </tr>\n",
       "    <tr>\n",
       "      <th>26</th>\n",
       "      <td>a</td>\n",
       "      <td>4983</td>\n",
       "      <td>17706</td>\n",
       "      <td>4.0</td>\n",
       "      <td>0.028614</td>\n",
       "      <td>0.143810</td>\n",
       "      <td>0.811564</td>\n",
       "    </tr>\n",
       "    <tr>\n",
       "      <th>37</th>\n",
       "      <td>i</td>\n",
       "      <td>4344</td>\n",
       "      <td>14952</td>\n",
       "      <td>5.0</td>\n",
       "      <td>0.024164</td>\n",
       "      <td>0.167974</td>\n",
       "      <td>0.707492</td>\n",
       "    </tr>\n",
       "  </tbody>\n",
       "</table>\n",
       "</div>"
      ],
      "text/plain": [
       "   word  appears_in  count  rank  pct_total  cul_pct_total  appears_in_pct\n",
       "56  the        5479  26616   1.0   0.043014       0.043014        0.892345\n",
       "2              6140  23354   2.0   0.037742       0.080756        1.000000\n",
       "0   and        5545  21311   3.0   0.034440       0.115196        0.903094\n",
       "26    a        4983  17706   4.0   0.028614       0.143810        0.811564\n",
       "37    i        4344  14952   5.0   0.024164       0.167974        0.707492"
      ]
     },
     "execution_count": 75,
     "metadata": {},
     "output_type": "execute_result"
    }
   ],
   "source": [
    "wc_good = count(subset_good['full_review_text'])\n",
    "wc_bad = count(subset_bad['full_review_text'])\n",
    "wc_good.head()"
   ]
  },
  {
   "cell_type": "code",
   "execution_count": 76,
   "metadata": {},
   "outputs": [
    {
     "data": {
      "text/plain": [
       "17782"
      ]
     },
     "execution_count": 76,
     "metadata": {},
     "output_type": "execute_result"
    }
   ],
   "source": [
    "len(set(wc_good['word']))"
   ]
  },
  {
   "cell_type": "code",
   "execution_count": 80,
   "metadata": {},
   "outputs": [
    {
     "name": "stdout",
     "output_type": "stream",
     "text": [
      "9420 total words for shops less than 4.0 rating\n"
     ]
    },
    {
     "data": {
      "text/html": [
       "<div>\n",
       "<style scoped>\n",
       "    .dataframe tbody tr th:only-of-type {\n",
       "        vertical-align: middle;\n",
       "    }\n",
       "\n",
       "    .dataframe tbody tr th {\n",
       "        vertical-align: top;\n",
       "    }\n",
       "\n",
       "    .dataframe thead th {\n",
       "        text-align: right;\n",
       "    }\n",
       "</style>\n",
       "<table border=\"1\" class=\"dataframe\">\n",
       "  <thead>\n",
       "    <tr style=\"text-align: right;\">\n",
       "      <th></th>\n",
       "      <th>word</th>\n",
       "      <th>appears_in</th>\n",
       "      <th>count</th>\n",
       "      <th>rank</th>\n",
       "      <th>pct_total</th>\n",
       "      <th>cul_pct_total</th>\n",
       "      <th>appears_in_pct</th>\n",
       "    </tr>\n",
       "  </thead>\n",
       "  <tbody>\n",
       "    <tr>\n",
       "      <th>44</th>\n",
       "      <td>the</td>\n",
       "      <td>1368</td>\n",
       "      <td>8193</td>\n",
       "      <td>1.0</td>\n",
       "      <td>0.044358</td>\n",
       "      <td>0.044358</td>\n",
       "      <td>0.926829</td>\n",
       "    </tr>\n",
       "    <tr>\n",
       "      <th>0</th>\n",
       "      <td></td>\n",
       "      <td>1476</td>\n",
       "      <td>6163</td>\n",
       "      <td>2.0</td>\n",
       "      <td>0.033367</td>\n",
       "      <td>0.077725</td>\n",
       "      <td>1.000000</td>\n",
       "    </tr>\n",
       "    <tr>\n",
       "      <th>1</th>\n",
       "      <td>and</td>\n",
       "      <td>1319</td>\n",
       "      <td>5339</td>\n",
       "      <td>3.0</td>\n",
       "      <td>0.028906</td>\n",
       "      <td>0.106631</td>\n",
       "      <td>0.893631</td>\n",
       "    </tr>\n",
       "    <tr>\n",
       "      <th>167</th>\n",
       "      <td>i</td>\n",
       "      <td>1184</td>\n",
       "      <td>5285</td>\n",
       "      <td>4.0</td>\n",
       "      <td>0.028614</td>\n",
       "      <td>0.135245</td>\n",
       "      <td>0.802168</td>\n",
       "    </tr>\n",
       "    <tr>\n",
       "      <th>17</th>\n",
       "      <td>a</td>\n",
       "      <td>1263</td>\n",
       "      <td>5049</td>\n",
       "      <td>5.0</td>\n",
       "      <td>0.027336</td>\n",
       "      <td>0.162581</td>\n",
       "      <td>0.855691</td>\n",
       "    </tr>\n",
       "  </tbody>\n",
       "</table>\n",
       "</div>"
      ],
      "text/plain": [
       "    word  appears_in  count  rank  pct_total  cul_pct_total  appears_in_pct\n",
       "44   the        1368   8193   1.0   0.044358       0.044358        0.926829\n",
       "0               1476   6163   2.0   0.033367       0.077725        1.000000\n",
       "1    and        1319   5339   3.0   0.028906       0.106631        0.893631\n",
       "167    i        1184   5285   4.0   0.028614       0.135245        0.802168\n",
       "17     a        1263   5049   5.0   0.027336       0.162581        0.855691"
      ]
     },
     "execution_count": 80,
     "metadata": {},
     "output_type": "execute_result"
    }
   ],
   "source": [
    "print(len(set(wc_bad['word'])), 'total words for shops less than 4.0 rating')\n",
    "wc_bad.head()"
   ]
  },
  {
   "cell_type": "code",
   "execution_count": 82,
   "metadata": {},
   "outputs": [
    {
     "data": {
      "image/png": "[encoded data removed]",
      "text/plain": [
       "<Figure size 432x288 with 1 Axes>"
      ]
     },
     "metadata": {
      "needs_background": "light"
     },
     "output_type": "display_data"
    }
   ],
   "source": [
    "import squarify\n",
    "import matplotlib.pyplot as plt\n",
    "\n",
    "# Relative importance for good shops\n",
    "wc_top20 = wc_good[wc_good['rank'] <= 20]\n",
    "\n",
    "squarify.plot(sizes=wc_top20['pct_total'], label=wc_top20['word'], alpha=.8 )\n",
    "plt.axis('off')\n",
    "plt.show()"
   ]
  },
  {
   "cell_type": "code",
   "execution_count": null,
   "metadata": {},
   "outputs": [],
   "source": [
    "import spacy\n",
    "from spacy.tokenizer import Tokenizer\n",
    "\n",
    "nlp = spacy.load(\"en_core_web_lg\")\n",
    "\n",
    "# Tokenizer\n",
    "tokenizer = Tokenizer(nlp.vocab)"
   ]
  },
  {
   "cell_type": "code",
   "execution_count": null,
   "metadata": {},
   "outputs": [],
   "source": []
  },
  {
   "cell_type": "code",
   "execution_count": null,
   "metadata": {},
   "outputs": [],
   "source": []
  },
  {
   "cell_type": "code",
   "execution_count": null,
   "metadata": {},
   "outputs": [],
   "source": []
  },
  {
   "cell_type": "markdown",
   "metadata": {},
   "source": [
    "## Can visualize the words with the greatest difference in counts between 'good' & 'bad'?\n",
    "\n",
    "Couple Notes: \n",
    "- Rel. freq. instead of absolute counts b/c of different numbers of reviews\n",
    "- Only look at the top 5-10 words with the greatest differences\n"
   ]
  },
  {
   "cell_type": "code",
   "execution_count": 46,
   "metadata": {},
   "outputs": [],
   "source": []
  },
  {
   "cell_type": "markdown",
   "metadata": {
    "colab_type": "text",
    "id": "1dCb1q8XphcP",
    "toc-hr-collapsed": true
   },
   "source": [
    "## Stretch Goals\n",
    "\n",
    "* Analyze another corpus of documents - such as Indeed.com job listings ;).\n",
    "* Play with the Spacy API to\n",
    " - Extract Named Entities\n",
    " - Extracting 'noun chunks'\n",
    " - Attempt Document Classification with just Spacy\n",
    " - *Note:* This [course](https://course.spacy.io/) will be of interesting in helping you with these stretch goals. \n",
    "* Try to build a plotly dash app with your text data \n",
    "\n"
   ]
  }
 ],
 "metadata": {
  "colab": {
   "collapsed_sections": [],
   "name": "LS_DS_421_Text_Data_Assignment.ipynb",
   "provenance": [],
   "version": "0.3.2"
  },
  "kernelspec": {
   "display_name": "U4-S1-NLP (Python3)",
   "language": "python",
   "name": "u4-s1-nlp"
  },
  "language_info": {
   "codemirror_mode": {
    "name": "ipython",
    "version": 3
   },
   "file_extension": ".py",
   "mimetype": "text/x-python",
   "name": "python",
   "nbconvert_exporter": "python",
   "pygments_lexer": "ipython3",
   "version": "3.7.0"
  },
  "toc-autonumbering": false
 },
 "nbformat": 4,
 "nbformat_minor": 4
}
